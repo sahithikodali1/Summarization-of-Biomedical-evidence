{
  "nbformat": 4,
  "nbformat_minor": 0,
  "metadata": {
    "colab": {
      "name": "BIOASQ_Baseline.ipynb",
      "provenance": [],
      "collapsed_sections": [],
      "mount_file_id": "1Q4j6uSw6JhJhqaQ9LxaUrvNdMOW9g07J",
      "authorship_tag": "ABX9TyPcfG01laqA/yAKgh8Nh5LC",
      "include_colab_link": true
    },
    "kernelspec": {
      "display_name": "Python 3",
      "name": "python3"
    },
    "language_info": {
      "name": "python"
    }
  },
  "cells": [
    {
      "cell_type": "markdown",
      "metadata": {
        "id": "view-in-github",
        "colab_type": "text"
      },
      "source": [
        "<a href=\"https://colab.research.google.com/github/sahithikodali1/Summarization-of-Biomedical-evidence/blob/Data_processing/BIOASQ_Baseline.ipynb\" target=\"_parent\"><img src=\"https://colab.research.google.com/assets/colab-badge.svg\" alt=\"Open In Colab\"/></a>"
      ]
    },
    {
      "cell_type": "code",
      "metadata": {
        "colab": {
          "base_uri": "https://localhost:8080/"
        },
        "id": "OmPJRc69hX1u",
        "outputId": "7292451a-31cb-464d-94de-f1866a9140a5"
      },
      "source": [
        "import numpy as np\n",
        "import pandas as pd\n",
        "import os\n",
        "\n",
        "print(os.listdir(\"/content/drive/MyDrive/Thesis_B\"))"
      ],
      "execution_count": null,
      "outputs": [
        {
          "output_type": "stream",
          "text": [
            "['rouge_8b_mod.csv', '.ipynb_checkpoints', 'test_data.csv', 'train_data.csv']\n"
          ],
          "name": "stdout"
        }
      ]
    },
    {
      "cell_type": "code",
      "metadata": {
        "colab": {
          "base_uri": "https://localhost:8080/"
        },
        "id": "w-PmY3k1huD7",
        "outputId": "8446790c-e2a8-45a7-ad88-778ba3a0649b"
      },
      "source": [
        "DATA_DIR = \"/content/drive/MyDrive/Thesis_B\"\n",
        "\n",
        "train_data = pd.read_csv(os.path.join(DATA_DIR,'train_data.csv'))\n",
        "# print(train_data.head()) \n",
        "\n",
        "print(train_data.columns.values)\n",
        "test_data = pd.read_csv(os.path.join(DATA_DIR,'test_data.csv'))\n",
        "# print(test_data[:10]) "
      ],
      "execution_count": null,
      "outputs": [
        {
          "output_type": "stream",
          "text": [
            "['qid' 'pubmedid' 'sentid' 'N1' 'N2' 'L' 'S4' 'SU4' 'sentence text'\n",
            " 'SU4_labels']\n"
          ],
          "name": "stdout"
        }
      ]
    },
    {
      "cell_type": "code",
      "metadata": {
        "colab": {
          "base_uri": "https://localhost:8080/"
        },
        "id": "bO879zfXiB3P",
        "outputId": "18ed5175-3cee-4fbe-fc0d-af20c83a76a6"
      },
      "source": [
        "# install\n",
        "!pip install pytorch-pretrained-bert pytorch-nlp\n",
        "\n",
        "# BERT imports\n",
        "import torch\n",
        "\n",
        "from torch.utils.data import TensorDataset, DataLoader, RandomSampler, SequentialSampler\n",
        "from keras.preprocessing.sequence import pad_sequences\n",
        "from sklearn.model_selection import train_test_split\n",
        "from pytorch_pretrained_bert import BertTokenizer, BertConfig\n",
        "from pytorch_pretrained_bert import BertAdam, BertForSequenceClassification\n",
        "from tqdm import tqdm, trange\n",
        "\n",
        "import pandas as pd\n",
        "import io\n",
        "import numpy as np\n",
        "import matplotlib.pyplot as plt\n",
        "% matplotlib inline"
      ],
      "execution_count": null,
      "outputs": [
        {
          "output_type": "stream",
          "text": [
            "Requirement already satisfied: pytorch-pretrained-bert in /usr/local/lib/python3.7/dist-packages (0.6.2)\n",
            "Requirement already satisfied: pytorch-nlp in /usr/local/lib/python3.7/dist-packages (0.5.0)\n",
            "Requirement already satisfied: torch>=0.4.1 in /usr/local/lib/python3.7/dist-packages (from pytorch-pretrained-bert) (1.8.1+cu101)\n",
            "Requirement already satisfied: numpy in /usr/local/lib/python3.7/dist-packages (from pytorch-pretrained-bert) (1.19.5)\n",
            "Requirement already satisfied: regex in /usr/local/lib/python3.7/dist-packages (from pytorch-pretrained-bert) (2019.12.20)\n",
            "Requirement already satisfied: tqdm in /usr/local/lib/python3.7/dist-packages (from pytorch-pretrained-bert) (4.41.1)\n",
            "Requirement already satisfied: boto3 in /usr/local/lib/python3.7/dist-packages (from pytorch-pretrained-bert) (1.17.57)\n",
            "Requirement already satisfied: requests in /usr/local/lib/python3.7/dist-packages (from pytorch-pretrained-bert) (2.23.0)\n",
            "Requirement already satisfied: typing-extensions in /usr/local/lib/python3.7/dist-packages (from torch>=0.4.1->pytorch-pretrained-bert) (3.7.4.3)\n",
            "Requirement already satisfied: s3transfer<0.5.0,>=0.4.0 in /usr/local/lib/python3.7/dist-packages (from boto3->pytorch-pretrained-bert) (0.4.2)\n",
            "Requirement already satisfied: botocore<1.21.0,>=1.20.57 in /usr/local/lib/python3.7/dist-packages (from boto3->pytorch-pretrained-bert) (1.20.57)\n",
            "Requirement already satisfied: jmespath<1.0.0,>=0.7.1 in /usr/local/lib/python3.7/dist-packages (from boto3->pytorch-pretrained-bert) (0.10.0)\n",
            "Requirement already satisfied: idna<3,>=2.5 in /usr/local/lib/python3.7/dist-packages (from requests->pytorch-pretrained-bert) (2.10)\n",
            "Requirement already satisfied: chardet<4,>=3.0.2 in /usr/local/lib/python3.7/dist-packages (from requests->pytorch-pretrained-bert) (3.0.4)\n",
            "Requirement already satisfied: urllib3!=1.25.0,!=1.25.1,<1.26,>=1.21.1 in /usr/local/lib/python3.7/dist-packages (from requests->pytorch-pretrained-bert) (1.24.3)\n",
            "Requirement already satisfied: certifi>=2017.4.17 in /usr/local/lib/python3.7/dist-packages (from requests->pytorch-pretrained-bert) (2020.12.5)\n",
            "Requirement already satisfied: python-dateutil<3.0.0,>=2.1 in /usr/local/lib/python3.7/dist-packages (from botocore<1.21.0,>=1.20.57->boto3->pytorch-pretrained-bert) (2.8.1)\n",
            "Requirement already satisfied: six>=1.5 in /usr/local/lib/python3.7/dist-packages (from python-dateutil<3.0.0,>=2.1->botocore<1.21.0,>=1.20.57->boto3->pytorch-pretrained-bert) (1.15.0)\n"
          ],
          "name": "stdout"
        }
      ]
    },
    {
      "cell_type": "code",
      "metadata": {
        "id": "-ZmKLBPwmzIg"
      },
      "source": [
        "tokenizer = BertTokenizer.from_pretrained('bert-base-uncased', do_lower_case=True)"
      ],
      "execution_count": null,
      "outputs": []
    },
    {
      "cell_type": "code",
      "metadata": {
        "id": "QgOIOnmlm46q"
      },
      "source": [
        "def data_grouplists(data):\n",
        "  data_list = train_data.groupby('qid', as_index=False)['SU4_labels','sentence text'].agg(list)\n",
        "  return data_list"
      ],
      "execution_count": null,
      "outputs": []
    },
    {
      "cell_type": "code",
      "metadata": {
        "colab": {
          "base_uri": "https://localhost:8080/"
        },
        "id": "rQxqZJ3v1aIX",
        "outputId": "3a4f465c-47f7-4832-8025-92de63bd7813"
      },
      "source": [
        "train_list = data_grouplists(train_data)\n",
        "test_list = data_grouplists(test_data)"
      ],
      "execution_count": null,
      "outputs": [
        {
          "output_type": "stream",
          "text": [
            "/usr/local/lib/python3.7/dist-packages/ipykernel_launcher.py:2: FutureWarning: Indexing with multiple keys (implicitly converted to a tuple of keys) will be deprecated, use a list instead.\n",
            "  \n"
          ],
          "name": "stderr"
        }
      ]
    },
    {
      "cell_type": "code",
      "metadata": {
        "id": "CWQMp4ckqlP1"
      },
      "source": [
        "def add_specialtokens(data_list):\n",
        "  specialtok_sentences = []\n",
        "\n",
        "  for sentence in data_list['sentence text']:\n",
        "    each_specialtoken = []\n",
        "    for each in sentence:\n",
        "      each_specialtoken.append([\"[CLS] \" + each + \" [SEP]\" ])\n",
        "    specialtok_sentences.append(each_specialtoken)\n",
        "  return specialtok_sentences"
      ],
      "execution_count": null,
      "outputs": []
    },
    {
      "cell_type": "code",
      "metadata": {
        "id": "J8DNwLWL2pNO"
      },
      "source": [
        "train_specialtok = add_specialtokens(train_list)\n",
        "test_specialtok = add_specialtokens(test_list)"
      ],
      "execution_count": null,
      "outputs": []
    },
    {
      "cell_type": "code",
      "metadata": {
        "colab": {
          "base_uri": "https://localhost:8080/"
        },
        "id": "xJ8212nk20WG",
        "outputId": "87e415ef-7a41-43e6-8a11-9cfbd9e008b0"
      },
      "source": [
        "print(train_specialtok[0])\n",
        "print(train_specialtok[1])"
      ],
      "execution_count": null,
      "outputs": [
        {
          "output_type": "stream",
          "text": [
            "[[\"[CLS] The non-Mendelian inheritance of sporadic non-syndromic Hirschsprung's disease proved to be complex; involvement of multiple loci was demonstrated in a multiplicative model [SEP]\"], [\"[CLS] The non-Mendelian inheritance of sporadic non-syndromic Hirschsprung's disease proved to be complex; involvement of multiple loci was demonstrated in a multiplicative model [SEP]\"], [\"[CLS] The majority of the identified genes are related to Mendelian syndromic forms of Hirschsprung's disease [SEP]\"], [\"[CLS] The majority of the identified genes are related to Mendelian syndromic forms of Hirschsprung's disease. [SEP]\"], [\"[CLS] In this study, we review the identification of genes and loci involved in the non-syndromic common form and syndromic Mendelian forms of Hirschsprung's disease. [SEP]\"], ['[CLS] In the etiology of Hirschsprung disease various genes play a role; these are: RET, EDNRB, GDNF, EDN3 and SOX10, NTN3, ECE1, Mutations in these genes may result in dominant, recessive or multifactorial patterns of inheritance [SEP]'], ['[CLS] In the etiology of Hirschsprung disease various genes play a role; these are: RET, EDNRB, GDNF, EDN3 and SOX10, NTN3, ECE1, Mutations in these genes may result in dominant, recessive or multifactorial patterns of inheritance. [SEP]'], ['[CLS] Furthermore, mutations in the RET gene are responsible for approximately half of the familial and some sporadic cases, strongly suggesting, on the one hand, the importance of non-coding variations and, on the other hand, that additional genes involved in the development of the enteric nervous system still await their discovery [SEP]'], ['[CLS] RET, GDNF, EDNRB, EDN3, and SOX10 lead to long-segment (L-HSCR) as well as syndromic HSCR but fail to explain the transmission of the much more common short-segment form (S-HSCR). [SEP]'], ['[CLS]  Hirschsprung disease (HSCR) is a multifactorial, non-mendelian disorder in which rare high-penetrance coding sequence mutations in the receptor tyrosine kinase RET contribute to risk in combination with mutations at other genes. [SEP]'], ['[CLS] Hirschsprung disease (HSCR) is a multifactorial, non-mendelian disorder in which rare high-penetrance coding sequence mutations in the receptor tyrosine kinase RET contribute to risk in combination with mutations at other genes [SEP]'], ['[CLS] Hirschsprung disease (HSCR) is a multifactorial, non-mendelian disorder in which rare high-penetrance coding sequence mutations in the receptor tyrosine kinase RET contribute to risk in combination with mutations at other genes. [SEP]'], ['[CLS] The inheritance of Hirschsprung disease is generally consistent with sex-modified multifactorial inheritance with a lower threshold of expression in males [SEP]'], ['[CLS]  The inheritance of Hirschsprung disease is generally consistent with sex-modified multifactorial inheritance with a lower threshold of expression in males. [SEP]'], ['[CLS] BACKGROUND: RET is the major gene associated to Hirschsprung disease (HSCR) with differential contributions of its rare and common, coding and noncoding mutations to the multifactorial nature of this pathology. [SEP]'], ['[CLS] Therefore, HSCR has become a model for a complex oligo-/polygenic disorder in which the relationship between different genes creating a non-mendelian inheritance pattern still remains to be elucidated [SEP]'], [\"[CLS] Chromosomal and related Mendelian syndromes associated with Hirschsprung's disease. [SEP]\"], ['[CLS] Differential contributions of rare and common, coding and noncoding Ret mutations to multifactorial Hirschsprung disease liability. [SEP]'], ['[CLS] Coding sequence mutations in e.g. [SEP]'], ['[CLS] For almost all of the identified HSCR genes incomplete penetrance of the HSCR phenotype has been reported, probably due to modifier loci. [SEP]'], ['[CLS] On the basis of a skewed sex-ratio (M/F = 4/1) and a risk to relatives much higher than the incidence in the general population, HSCR has long been regarded as a sex-modified multifactorial disorder [SEP]']]\n",
            "[['[CLS] the 7 known EGFR ligands (EGF, betacellulin, epiregulin, heparin-binding EGF, transforming growth factor-α [TGF-α], amphiregulin, and epigen) [SEP]'], ['[CLS]  EGFR ligands epidermal growth factor (EGF), amphiregulin (AREG) and transforming growth factor alpha (TGFα) [SEP]'], ['[CLS] mammalian EGFR ligands including EGF, TGF-α (TGFα), amphiregulin (AREG), heparin-binding EGF-like growth factor (HB-EGF), betacellulin, epiregulin, and epigen. [SEP]'], ['[CLS] the epidermal growth factor receptor (EGFR) ligands, such as epidermal growth factor (EGF) and amphiregulin (AREG) [SEP]'], ['[CLS] Among EGFR ligands, heparin-binding epidermal growth factor (HB-EGF) [SEP]'], ['[CLS] Among EGFR ligands, heparin-binding EGF-like growth factor, TGF-α and Betacellulin (BTC) are produced in the tumor microenvironment of FDC-S at RNA level. [SEP]'], ['[CLS] oluble amphiregulin (AR), transforming growth factor alpha (TGFα), neuregulin 2 beta, and epigen stimulate greater EGFR coupling to cell proliferation and DNA synthesis than do EGF, betacellulin, heparin-binding EGF-like growth factor, and epiregulin [SEP]'], ['[CLS] Plasma amphiregulin (AR), epidermal growth factor (EGF), transforming growth factor-α, and heparin binding-EGF were assessed by ELISA in 45 chemorefractory mCRC patients [SEP]'], ['[CLS] Here, we demonstrate that histamine releases 2 EGFR ligands, amphiregulin and heparin-binding epidermal growth factor-like growth factor (HB-EGF), from airway epithelial cells. [SEP]'], ['[CLS]  Of the six known EGFR ligands, transforming growth factor alpha (TGFα) was expressed more highly in triple-negative breast tumors than in tumors of other subtypes. [SEP]'], ['[CLS] EGFR ligands based on the two affinity classes: EGF>HB-EGF>TGF-α>BTC>EPR>EPG>AR [SEP]'], ['[CLS] Epidermal growth factor (EGF) family peptides are ligands for the EGF receptor (EGFR). [SEP]'], ['[CLS] four EGFR ligands (AR, HB-EGF, TGF-α, and EREG) [SEP]'], ['[CLS] In this article, however, we demonstrate that PEPD directly binds to and activates epidermal growth factor receptor (EGFR), [SEP]'], ['[CLS]  EGFR and its ligand EGF [SEP]'], ['[CLS] . [SEP]']]\n"
          ],
          "name": "stdout"
        }
      ]
    },
    {
      "cell_type": "code",
      "metadata": {
        "id": "_nsQ8itK2-IW"
      },
      "source": [
        "def tokenize_sentences(specialtok_sentences):\n",
        "  tokenized_sentences = []\n",
        "\n",
        "  for sentence in specialtok_sentences:\n",
        "    eachsent_tokenized = []\n",
        "    for each in sentence:\n",
        "      eachsent_tokenized.append(tokenizer.tokenize(each[0]))\n",
        "    tokenized_sentences.append(eachsent_tokenized)\n",
        "  return tokenized_sentences"
      ],
      "execution_count": null,
      "outputs": []
    },
    {
      "cell_type": "code",
      "metadata": {
        "id": "lgi8wXqU1uTg"
      },
      "source": [
        "train_tokenized = tokenize_sentences(train_specialtok)\n",
        "test_tokenized = tokenize_sentences(test_specialtok)\n"
      ],
      "execution_count": null,
      "outputs": []
    },
    {
      "cell_type": "code",
      "metadata": {
        "id": "hW6p7qIU4Thv"
      },
      "source": [
        "def data_tokenizedsent(tokenized_sentences, data_list):\n",
        "  data_list['tokenized_sentences'] = tokenized_sentences\n",
        "  return data_list"
      ],
      "execution_count": null,
      "outputs": []
    },
    {
      "cell_type": "code",
      "metadata": {
        "colab": {
          "base_uri": "https://localhost:8080/"
        },
        "id": "rgJ0YFuS4kXP",
        "outputId": "9b249346-c67a-46c2-930e-65f6277ba0d2"
      },
      "source": [
        "print(train_tokenized[0])"
      ],
      "execution_count": null,
      "outputs": [
        {
          "output_type": "stream",
          "text": [
            "[['[CLS]', 'the', 'non', '-', 'men', '##del', '##ian', 'inheritance', 'of', 'sporadic', 'non', '-', 'syn', '##dro', '##mic', 'hirsch', '##sp', '##run', '##g', \"'\", 's', 'disease', 'proved', 'to', 'be', 'complex', ';', 'involvement', 'of', 'multiple', 'lo', '##ci', 'was', 'demonstrated', 'in', 'a', 'multi', '##pl', '##icative', 'model', '[SEP]'], ['[CLS]', 'the', 'non', '-', 'men', '##del', '##ian', 'inheritance', 'of', 'sporadic', 'non', '-', 'syn', '##dro', '##mic', 'hirsch', '##sp', '##run', '##g', \"'\", 's', 'disease', 'proved', 'to', 'be', 'complex', ';', 'involvement', 'of', 'multiple', 'lo', '##ci', 'was', 'demonstrated', 'in', 'a', 'multi', '##pl', '##icative', 'model', '[SEP]'], ['[CLS]', 'the', 'majority', 'of', 'the', 'identified', 'genes', 'are', 'related', 'to', 'men', '##del', '##ian', 'syn', '##dro', '##mic', 'forms', 'of', 'hirsch', '##sp', '##run', '##g', \"'\", 's', 'disease', '[SEP]'], ['[CLS]', 'the', 'majority', 'of', 'the', 'identified', 'genes', 'are', 'related', 'to', 'men', '##del', '##ian', 'syn', '##dro', '##mic', 'forms', 'of', 'hirsch', '##sp', '##run', '##g', \"'\", 's', 'disease', '.', '[SEP]'], ['[CLS]', 'in', 'this', 'study', ',', 'we', 'review', 'the', 'identification', 'of', 'genes', 'and', 'lo', '##ci', 'involved', 'in', 'the', 'non', '-', 'syn', '##dro', '##mic', 'common', 'form', 'and', 'syn', '##dro', '##mic', 'men', '##del', '##ian', 'forms', 'of', 'hirsch', '##sp', '##run', '##g', \"'\", 's', 'disease', '.', '[SEP]'], ['[CLS]', 'in', 'the', 'et', '##iology', 'of', 'hirsch', '##sp', '##run', '##g', 'disease', 'various', 'genes', 'play', 'a', 'role', ';', 'these', 'are', ':', 're', '##t', ',', 'ed', '##nr', '##b', ',', 'g', '##d', '##n', '##f', ',', 'ed', '##n', '##3', 'and', 'sox', '##10', ',', 'nt', '##n', '##3', ',', 'ec', '##e', '##1', ',', 'mutations', 'in', 'these', 'genes', 'may', 'result', 'in', 'dominant', ',', 'recess', '##ive', 'or', 'multi', '##fa', '##ctor', '##ial', 'patterns', 'of', 'inheritance', '[SEP]'], ['[CLS]', 'in', 'the', 'et', '##iology', 'of', 'hirsch', '##sp', '##run', '##g', 'disease', 'various', 'genes', 'play', 'a', 'role', ';', 'these', 'are', ':', 're', '##t', ',', 'ed', '##nr', '##b', ',', 'g', '##d', '##n', '##f', ',', 'ed', '##n', '##3', 'and', 'sox', '##10', ',', 'nt', '##n', '##3', ',', 'ec', '##e', '##1', ',', 'mutations', 'in', 'these', 'genes', 'may', 'result', 'in', 'dominant', ',', 'recess', '##ive', 'or', 'multi', '##fa', '##ctor', '##ial', 'patterns', 'of', 'inheritance', '.', '[SEP]'], ['[CLS]', 'furthermore', ',', 'mutations', 'in', 'the', 're', '##t', 'gene', 'are', 'responsible', 'for', 'approximately', 'half', 'of', 'the', 'fa', '##mi', '##lia', '##l', 'and', 'some', 'sporadic', 'cases', ',', 'strongly', 'suggesting', ',', 'on', 'the', 'one', 'hand', ',', 'the', 'importance', 'of', 'non', '-', 'coding', 'variations', 'and', ',', 'on', 'the', 'other', 'hand', ',', 'that', 'additional', 'genes', 'involved', 'in', 'the', 'development', 'of', 'the', 'enter', '##ic', 'nervous', 'system', 'still', 'await', 'their', 'discovery', '[SEP]'], ['[CLS]', 're', '##t', ',', 'g', '##d', '##n', '##f', ',', 'ed', '##nr', '##b', ',', 'ed', '##n', '##3', ',', 'and', 'sox', '##10', 'lead', 'to', 'long', '-', 'segment', '(', 'l', '-', 'hs', '##cr', ')', 'as', 'well', 'as', 'syn', '##dro', '##mic', 'hs', '##cr', 'but', 'fail', 'to', 'explain', 'the', 'transmission', 'of', 'the', 'much', 'more', 'common', 'short', '-', 'segment', 'form', '(', 's', '-', 'hs', '##cr', ')', '.', '[SEP]'], ['[CLS]', 'hirsch', '##sp', '##run', '##g', 'disease', '(', 'hs', '##cr', ')', 'is', 'a', 'multi', '##fa', '##ctor', '##ial', ',', 'non', '-', 'men', '##del', '##ian', 'disorder', 'in', 'which', 'rare', 'high', '-', 'pen', '##et', '##rance', 'coding', 'sequence', 'mutations', 'in', 'the', 'receptor', 'ty', '##ros', '##ine', 'kinase', 're', '##t', 'contribute', 'to', 'risk', 'in', 'combination', 'with', 'mutations', 'at', 'other', 'genes', '.', '[SEP]'], ['[CLS]', 'hirsch', '##sp', '##run', '##g', 'disease', '(', 'hs', '##cr', ')', 'is', 'a', 'multi', '##fa', '##ctor', '##ial', ',', 'non', '-', 'men', '##del', '##ian', 'disorder', 'in', 'which', 'rare', 'high', '-', 'pen', '##et', '##rance', 'coding', 'sequence', 'mutations', 'in', 'the', 'receptor', 'ty', '##ros', '##ine', 'kinase', 're', '##t', 'contribute', 'to', 'risk', 'in', 'combination', 'with', 'mutations', 'at', 'other', 'genes', '[SEP]'], ['[CLS]', 'hirsch', '##sp', '##run', '##g', 'disease', '(', 'hs', '##cr', ')', 'is', 'a', 'multi', '##fa', '##ctor', '##ial', ',', 'non', '-', 'men', '##del', '##ian', 'disorder', 'in', 'which', 'rare', 'high', '-', 'pen', '##et', '##rance', 'coding', 'sequence', 'mutations', 'in', 'the', 'receptor', 'ty', '##ros', '##ine', 'kinase', 're', '##t', 'contribute', 'to', 'risk', 'in', 'combination', 'with', 'mutations', 'at', 'other', 'genes', '.', '[SEP]'], ['[CLS]', 'the', 'inheritance', 'of', 'hirsch', '##sp', '##run', '##g', 'disease', 'is', 'generally', 'consistent', 'with', 'sex', '-', 'modified', 'multi', '##fa', '##ctor', '##ial', 'inheritance', 'with', 'a', 'lower', 'threshold', 'of', 'expression', 'in', 'males', '[SEP]'], ['[CLS]', 'the', 'inheritance', 'of', 'hirsch', '##sp', '##run', '##g', 'disease', 'is', 'generally', 'consistent', 'with', 'sex', '-', 'modified', 'multi', '##fa', '##ctor', '##ial', 'inheritance', 'with', 'a', 'lower', 'threshold', 'of', 'expression', 'in', 'males', '.', '[SEP]'], ['[CLS]', 'background', ':', 're', '##t', 'is', 'the', 'major', 'gene', 'associated', 'to', 'hirsch', '##sp', '##run', '##g', 'disease', '(', 'hs', '##cr', ')', 'with', 'differential', 'contributions', 'of', 'its', 'rare', 'and', 'common', ',', 'coding', 'and', 'non', '##co', '##ding', 'mutations', 'to', 'the', 'multi', '##fa', '##ctor', '##ial', 'nature', 'of', 'this', 'pathology', '.', '[SEP]'], ['[CLS]', 'therefore', ',', 'hs', '##cr', 'has', 'become', 'a', 'model', 'for', 'a', 'complex', 'ol', '##igo', '-', '/', 'poly', '##genic', 'disorder', 'in', 'which', 'the', 'relationship', 'between', 'different', 'genes', 'creating', 'a', 'non', '-', 'men', '##del', '##ian', 'inheritance', 'pattern', 'still', 'remains', 'to', 'be', 'el', '##uc', '##ida', '##ted', '[SEP]'], ['[CLS]', 'ch', '##rom', '##osomal', 'and', 'related', 'men', '##del', '##ian', 'syndrome', '##s', 'associated', 'with', 'hirsch', '##sp', '##run', '##g', \"'\", 's', 'disease', '.', '[SEP]'], ['[CLS]', 'differential', 'contributions', 'of', 'rare', 'and', 'common', ',', 'coding', 'and', 'non', '##co', '##ding', 're', '##t', 'mutations', 'to', 'multi', '##fa', '##ctor', '##ial', 'hirsch', '##sp', '##run', '##g', 'disease', 'liability', '.', '[SEP]'], ['[CLS]', 'coding', 'sequence', 'mutations', 'in', 'e', '.', 'g', '.', '[SEP]'], ['[CLS]', 'for', 'almost', 'all', 'of', 'the', 'identified', 'hs', '##cr', 'genes', 'incomplete', 'pen', '##et', '##rance', 'of', 'the', 'hs', '##cr', 'ph', '##eno', '##type', 'has', 'been', 'reported', ',', 'probably', 'due', 'to', 'mod', '##ifier', 'lo', '##ci', '.', '[SEP]'], ['[CLS]', 'on', 'the', 'basis', 'of', 'a', 'sk', '##ew', '##ed', 'sex', '-', 'ratio', '(', 'm', '/', 'f', '=', '4', '/', '1', ')', 'and', 'a', 'risk', 'to', 'relatives', 'much', 'higher', 'than', 'the', 'incidence', 'in', 'the', 'general', 'population', ',', 'hs', '##cr', 'has', 'long', 'been', 'regarded', 'as', 'a', 'sex', '-', 'modified', 'multi', '##fa', '##ctor', '##ial', 'disorder', '[SEP]']]\n"
          ],
          "name": "stdout"
        }
      ]
    },
    {
      "cell_type": "code",
      "metadata": {
        "id": "TZMhWwmZ4oae"
      },
      "source": [
        "data_train_tokenized = data_tokenizedsent(train_tokenized, train_list)\n",
        "data_test_tokenized = data_tokenizedsent(test_tokenized, test_list)"
      ],
      "execution_count": null,
      "outputs": []
    },
    {
      "cell_type": "code",
      "metadata": {
        "colab": {
          "base_uri": "https://localhost:8080/"
        },
        "id": "NiHS9PKB43h4",
        "outputId": "94457cc8-6c94-4c82-c69b-a01ff7b01522"
      },
      "source": [
        "print(len(train_tokenized))\n",
        "print(data_train_tokenized.columns.values)"
      ],
      "execution_count": null,
      "outputs": [
        {
          "output_type": "stream",
          "text": [
            "2594\n",
            "['qid' 'SU4_labels' 'sentence text' 'tokenized_sentences']\n"
          ],
          "name": "stdout"
        }
      ]
    },
    {
      "cell_type": "code",
      "metadata": {
        "colab": {
          "base_uri": "https://localhost:8080/"
        },
        "id": "5WHXKf6E5ZQ3",
        "outputId": "90a678b3-1be6-4d28-e5c7-28f6189f9f9a"
      },
      "source": [
        "print(len(train_tokenized[0]))\n",
        "print(len(train_tokenized[1]))"
      ],
      "execution_count": null,
      "outputs": [
        {
          "output_type": "stream",
          "text": [
            "21\n",
            "16\n"
          ],
          "name": "stdout"
        }
      ]
    },
    {
      "cell_type": "code",
      "metadata": {
        "id": "kHb0_VKg53Mm"
      },
      "source": [
        "def token2ids(tokenized_sentences):\n",
        "  # Set the maximum sequence length. \n",
        "  MAX_LEN = 512\n",
        "  token_ids = []\n",
        "\n",
        "  for tokenized_sentence in tokenized_sentences:\n",
        "    tokens_to_ids = [tokenizer.convert_tokens_to_ids(each) for each in tokenized_sentence]\n",
        "    tokens_to_ids = pad_sequences(tokens_to_ids, maxlen=MAX_LEN, dtype=\"long\", truncating=\"post\", padding=\"post\")\n",
        "    token_ids.append(tokens_to_ids)\n",
        "  return token_ids"
      ],
      "execution_count": null,
      "outputs": []
    },
    {
      "cell_type": "code",
      "metadata": {
        "colab": {
          "base_uri": "https://localhost:8080/"
        },
        "id": "DGZvHIjh6qHL",
        "outputId": "875907f3-5a82-4ef0-b139-01d28d655e36"
      },
      "source": [
        "train_tokens2ids = token2ids(train_tokenized)\n",
        "test_tokens2ids = token2ids(test_tokenized)"
      ],
      "execution_count": null,
      "outputs": [
        {
          "output_type": "stream",
          "text": [
            "Token indices sequence length is longer than the specified maximum  sequence length for this BERT model (529 > 512). Running this sequence through BERT will result in indexing errors\n",
            "Token indices sequence length is longer than the specified maximum  sequence length for this BERT model (529 > 512). Running this sequence through BERT will result in indexing errors\n"
          ],
          "name": "stderr"
        }
      ]
    },
    {
      "cell_type": "code",
      "metadata": {
        "colab": {
          "base_uri": "https://localhost:8080/"
        },
        "id": "SiArL92V7IO3",
        "outputId": "c9e897ee-b57e-42b6-a939-25ee00a55af2"
      },
      "source": [
        "print(len(train_tokens2ids))\n",
        "print(len(train_tokens2ids[0][20]))\n",
        "print(len(train_tokens2ids[1]))"
      ],
      "execution_count": null,
      "outputs": [
        {
          "output_type": "stream",
          "text": [
            "2594\n",
            "512\n",
            "16\n"
          ],
          "name": "stdout"
        }
      ]
    },
    {
      "cell_type": "code",
      "metadata": {
        "id": "xbQNwNja5q2O"
      },
      "source": [
        "def create_masks(token_ids):\n",
        "  attention_masks = []\n",
        "\n",
        "  for tid in token_ids:\n",
        "    eachtid_mask = []\n",
        "    for each in tid:\n",
        "      mask = [float(i>0) for i in each] #for each token \n",
        "      eachtid_mask.append(mask)#for each sentence\n",
        "    attention_masks.append(eachtid_mask)\n",
        "  return attention_masks"
      ],
      "execution_count": null,
      "outputs": []
    },
    {
      "cell_type": "code",
      "metadata": {
        "id": "Ez0g4unJ9j1T"
      },
      "source": [
        "train_masks = create_masks(train_tokens2ids)\n",
        "test_masks = create_masks(test_tokens2ids)"
      ],
      "execution_count": null,
      "outputs": []
    },
    {
      "cell_type": "code",
      "metadata": {
        "colab": {
          "base_uri": "https://localhost:8080/"
        },
        "id": "KOJdR6bt8A3z",
        "outputId": "8fa89757-7dbb-4ced-c733-6eac8e0d60d7"
      },
      "source": [
        "print(len(train_masks))\n",
        "print(len(train_masks[0]))\n",
        "print(len(train_masks[0][0]))\n",
        "print(len(train_masks[1]))\n",
        "print(len(train_masks[1][1]))\n"
      ],
      "execution_count": null,
      "outputs": [
        {
          "output_type": "stream",
          "text": [
            "2594\n",
            "21\n",
            "512\n",
            "16\n",
            "512\n"
          ],
          "name": "stdout"
        }
      ]
    }
  ]
}