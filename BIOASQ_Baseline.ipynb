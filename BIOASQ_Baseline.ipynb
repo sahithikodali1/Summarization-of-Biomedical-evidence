{
  "nbformat": 4,
  "nbformat_minor": 0,
  "metadata": {
    "colab": {
      "name": "BIOASQ_Baseline.ipynb",
      "provenance": [],
      "collapsed_sections": [],
      "mount_file_id": "1Q4j6uSw6JhJhqaQ9LxaUrvNdMOW9g07J",
      "authorship_tag": "ABX9TyOA4akDCry+wjY904ZtnaV5",
      "include_colab_link": true
    },
    "kernelspec": {
      "display_name": "Python 3",
      "name": "python3"
    },
    "language_info": {
      "name": "python"
    }
  },
  "cells": [
    {
      "cell_type": "markdown",
      "metadata": {
        "id": "view-in-github",
        "colab_type": "text"
      },
      "source": [
        "<a href=\"https://colab.research.google.com/github/sahithikodali1/Summarization-of-Biomedical-evidence/blob/Data_processing/BIOASQ_Baseline.ipynb\" target=\"_parent\"><img src=\"https://colab.research.google.com/assets/colab-badge.svg\" alt=\"Open In Colab\"/></a>"
      ]
    },
    {
      "cell_type": "code",
      "metadata": {
        "colab": {
          "base_uri": "https://localhost:8080/"
        },
        "id": "OmPJRc69hX1u",
        "outputId": "10018c61-a237-437d-9395-92d07f4c06bb"
      },
      "source": [
        "import numpy as np\n",
        "import pandas as pd\n",
        "import os\n",
        "\n",
        "print(os.listdir(\"/content/drive/MyDrive/Thesis_B\"))"
      ],
      "execution_count": 1,
      "outputs": [
        {
          "output_type": "stream",
          "text": [
            "['rouge_8b_mod.csv', '.ipynb_checkpoints', 'test_data.csv', 'train_data.csv']\n"
          ],
          "name": "stdout"
        }
      ]
    },
    {
      "cell_type": "code",
      "metadata": {
        "id": "E2HrufEhQFyA"
      },
      "source": [
        "DATA_DIR = \"/content/drive/MyDrive/Thesis_B\"\n",
        "\n",
        "file = pd.read_csv(os.path.join(DATA_DIR,'rouge_8b_mod.csv'))\n",
        "f_values = file.values\n",
        "# print(f_values[:10])\n",
        "# print(col_names[:10])\n",
        "q_id_split = np.split(f_values, np.where(np.diff(f_values[:,0]))[0]+1)\n",
        "# print(q_id_split[:2])"
      ],
      "execution_count": 2,
      "outputs": []
    },
    {
      "cell_type": "code",
      "metadata": {
        "colab": {
          "base_uri": "https://localhost:8080/"
        },
        "id": "lPZjUxtKQbWn",
        "outputId": "d03cb8c8-5e2e-48af-b865-3227653bb88c"
      },
      "source": [
        "train_data_size = round(len(q_id_split)*0.8)\n",
        "test_data_size = round(len(q_id_split) - train_data_size)\n",
        "print(train_data_size)\n",
        "print(test_data_size)"
      ],
      "execution_count": 3,
      "outputs": [
        {
          "output_type": "stream",
          "text": [
            "2594\n",
            "648\n"
          ],
          "name": "stdout"
        }
      ]
    },
    {
      "cell_type": "code",
      "metadata": {
        "colab": {
          "base_uri": "https://localhost:8080/"
        },
        "id": "DPsL_08rQIkN",
        "outputId": "49894c7a-c70b-43b4-deb2-fb747fb4253d"
      },
      "source": [
        "import random\n",
        "random.seed(3007)\n",
        "random.shuffle(q_id_split)\n",
        "print(type(q_id_split[:1]))"
      ],
      "execution_count": 4,
      "outputs": [
        {
          "output_type": "stream",
          "text": [
            "<class 'list'>\n"
          ],
          "name": "stdout"
        }
      ]
    },
    {
      "cell_type": "code",
      "metadata": {
        "colab": {
          "base_uri": "https://localhost:8080/"
        },
        "id": "54_yWb5WCCXy",
        "outputId": "6650b8d6-a2b5-40d6-d546-39926e7a11d8"
      },
      "source": [
        "train_data_beforeval = q_id_split[:2594]\n",
        "f_values_train_beforeval = np.concatenate(train_data_beforeval, axis=0)\n",
        "# print((f_values_train_beforeval))\n",
        "\n",
        "q_id_split_train = np.split(f_values_train_beforeval, np.where(np.diff(f_values_train_beforeval[:,0]))[0]+1)\n",
        "print(len(q_id_split_train))"
      ],
      "execution_count": 7,
      "outputs": [
        {
          "output_type": "stream",
          "text": [
            "2594\n"
          ],
          "name": "stdout"
        }
      ]
    },
    {
      "cell_type": "code",
      "metadata": {
        "colab": {
          "base_uri": "https://localhost:8080/"
        },
        "id": "MxLTiTwxCcFP",
        "outputId": "08694eed-362e-4a49-d534-a6f41099c2be"
      },
      "source": [
        "val_data_size = round(len(q_id_split_train)*0.2)\n",
        "train_data_size = round(len(q_id_split_train) - val_data_size)\n",
        "print(train_data_size)\n",
        "print(val_data_size)"
      ],
      "execution_count": 8,
      "outputs": [
        {
          "output_type": "stream",
          "text": [
            "2075\n",
            "519\n"
          ],
          "name": "stdout"
        }
      ]
    },
    {
      "cell_type": "code",
      "metadata": {
        "colab": {
          "base_uri": "https://localhost:8080/"
        },
        "id": "6uqmc8JyC6oW",
        "outputId": "8995ec48-3b3c-445e-c886-baf46c61131c"
      },
      "source": [
        "train_data = q_id_split_train[:2075]\n",
        "val_data = q_id_split_train[2075:]\n",
        "test_data = q_id_split[2594:]\n",
        "f_values_train = np.concatenate(train_data, axis=0)\n",
        "f_values_val = np.concatenate(val_data, axis=0)\n",
        "f_values_test = np.concatenate(test_data, axis=0)\n",
        "col_names = file.columns\n",
        "print(col_names)\n",
        "\n",
        "train_df = pd.DataFrame(f_values_train, columns = col_names)\n",
        "val_df = pd.DataFrame(f_values_val, columns = col_names)\n",
        "test_df = pd.DataFrame(f_values_test, columns = col_names)"
      ],
      "execution_count": 9,
      "outputs": [
        {
          "output_type": "stream",
          "text": [
            "Index(['qid', 'pubmedid', 'sentid', 'N1', 'N2', 'L', 'S4', 'SU4',\n",
            "       'sentence text', 'SU4_labels'],\n",
            "      dtype='object')\n"
          ],
          "name": "stdout"
        }
      ]
    },
    {
      "cell_type": "code",
      "metadata": {
        "colab": {
          "base_uri": "https://localhost:8080/"
        },
        "id": "c6_hHEVzRV0W",
        "outputId": "3f298b12-bbb0-4422-c26a-bede07f7c09e"
      },
      "source": [
        "print(len(train_data))\n",
        "print(len(val_data))\n",
        "print(len(test_data))\n",
        "\n",
        "print(len(train_df))\n",
        "print(len(val_df))\n",
        "print(len(test_df))\n",
        "print(train_df.columns.values)"
      ],
      "execution_count": 10,
      "outputs": [
        {
          "output_type": "stream",
          "text": [
            "2075\n",
            "519\n",
            "648\n",
            "33435\n",
            "8148\n",
            "10161\n",
            "['qid' 'pubmedid' 'sentid' 'N1' 'N2' 'L' 'S4' 'SU4' 'sentence text'\n",
            " 'SU4_labels']\n"
          ],
          "name": "stdout"
        }
      ]
    },
    {
      "cell_type": "code",
      "metadata": {
        "colab": {
          "base_uri": "https://localhost:8080/"
        },
        "id": "bO879zfXiB3P",
        "outputId": "48629dc8-e2fa-4e90-e8d9-bd64d6d741ca"
      },
      "source": [
        "# install\n",
        "!pip install pytorch-pretrained-bert pytorch-nlp\n",
        "\n",
        "# BERT imports\n",
        "import torch\n",
        "\n",
        "from torch.utils.data import TensorDataset, DataLoader, RandomSampler, SequentialSampler\n",
        "from keras.preprocessing.sequence import pad_sequences\n",
        "from sklearn.model_selection import train_test_split\n",
        "from pytorch_pretrained_bert import BertTokenizer, BertConfig\n",
        "from pytorch_pretrained_bert import BertAdam, BertForSequenceClassification\n",
        "from tqdm import tqdm, trange\n",
        "\n",
        "import pandas as pd\n",
        "import io\n",
        "import numpy as np\n",
        "import matplotlib.pyplot as plt\n",
        "% matplotlib inline"
      ],
      "execution_count": 11,
      "outputs": [
        {
          "output_type": "stream",
          "text": [
            "Requirement already satisfied: pytorch-pretrained-bert in /usr/local/lib/python3.7/dist-packages (0.6.2)\n",
            "Requirement already satisfied: pytorch-nlp in /usr/local/lib/python3.7/dist-packages (0.5.0)\n",
            "Requirement already satisfied: tqdm in /usr/local/lib/python3.7/dist-packages (from pytorch-pretrained-bert) (4.41.1)\n",
            "Requirement already satisfied: torch>=0.4.1 in /usr/local/lib/python3.7/dist-packages (from pytorch-pretrained-bert) (1.8.1+cu101)\n",
            "Requirement already satisfied: regex in /usr/local/lib/python3.7/dist-packages (from pytorch-pretrained-bert) (2019.12.20)\n",
            "Requirement already satisfied: boto3 in /usr/local/lib/python3.7/dist-packages (from pytorch-pretrained-bert) (1.17.59)\n",
            "Requirement already satisfied: requests in /usr/local/lib/python3.7/dist-packages (from pytorch-pretrained-bert) (2.23.0)\n",
            "Requirement already satisfied: numpy in /usr/local/lib/python3.7/dist-packages (from pytorch-pretrained-bert) (1.19.5)\n",
            "Requirement already satisfied: typing-extensions in /usr/local/lib/python3.7/dist-packages (from torch>=0.4.1->pytorch-pretrained-bert) (3.7.4.3)\n",
            "Requirement already satisfied: botocore<1.21.0,>=1.20.59 in /usr/local/lib/python3.7/dist-packages (from boto3->pytorch-pretrained-bert) (1.20.59)\n",
            "Requirement already satisfied: s3transfer<0.5.0,>=0.4.0 in /usr/local/lib/python3.7/dist-packages (from boto3->pytorch-pretrained-bert) (0.4.2)\n",
            "Requirement already satisfied: jmespath<1.0.0,>=0.7.1 in /usr/local/lib/python3.7/dist-packages (from boto3->pytorch-pretrained-bert) (0.10.0)\n",
            "Requirement already satisfied: idna<3,>=2.5 in /usr/local/lib/python3.7/dist-packages (from requests->pytorch-pretrained-bert) (2.10)\n",
            "Requirement already satisfied: chardet<4,>=3.0.2 in /usr/local/lib/python3.7/dist-packages (from requests->pytorch-pretrained-bert) (3.0.4)\n",
            "Requirement already satisfied: urllib3!=1.25.0,!=1.25.1,<1.26,>=1.21.1 in /usr/local/lib/python3.7/dist-packages (from requests->pytorch-pretrained-bert) (1.24.3)\n",
            "Requirement already satisfied: certifi>=2017.4.17 in /usr/local/lib/python3.7/dist-packages (from requests->pytorch-pretrained-bert) (2020.12.5)\n",
            "Requirement already satisfied: python-dateutil<3.0.0,>=2.1 in /usr/local/lib/python3.7/dist-packages (from botocore<1.21.0,>=1.20.59->boto3->pytorch-pretrained-bert) (2.8.1)\n",
            "Requirement already satisfied: six>=1.5 in /usr/local/lib/python3.7/dist-packages (from python-dateutil<3.0.0,>=2.1->botocore<1.21.0,>=1.20.59->boto3->pytorch-pretrained-bert) (1.15.0)\n"
          ],
          "name": "stdout"
        }
      ]
    },
    {
      "cell_type": "code",
      "metadata": {
        "id": "-ZmKLBPwmzIg"
      },
      "source": [
        "tokenizer = BertTokenizer.from_pretrained('bert-base-uncased', do_lower_case=True)"
      ],
      "execution_count": 12,
      "outputs": []
    },
    {
      "cell_type": "code",
      "metadata": {
        "id": "QgOIOnmlm46q"
      },
      "source": [
        "def data_grouplists(data):\n",
        "  data_list = data.groupby('qid', as_index=False)['SU4','SU4_labels','sentence text'].agg(list)\n",
        "  return data_list"
      ],
      "execution_count": 13,
      "outputs": []
    },
    {
      "cell_type": "code",
      "metadata": {
        "colab": {
          "base_uri": "https://localhost:8080/"
        },
        "id": "rQxqZJ3v1aIX",
        "outputId": "44f1a6d6-f6b9-4d67-a374-cdfd71487908"
      },
      "source": [
        "train_list = data_grouplists(train_df)\n",
        "val_list = data_grouplists(val_df)\n",
        "test_list = data_grouplists(test_df)"
      ],
      "execution_count": 14,
      "outputs": [
        {
          "output_type": "stream",
          "text": [
            "/usr/local/lib/python3.7/dist-packages/ipykernel_launcher.py:2: FutureWarning: Indexing with multiple keys (implicitly converted to a tuple of keys) will be deprecated, use a list instead.\n",
            "  \n"
          ],
          "name": "stderr"
        }
      ]
    },
    {
      "cell_type": "code",
      "metadata": {
        "id": "CWQMp4ckqlP1"
      },
      "source": [
        "def add_specialtokens(data_list):\n",
        "  specialtok_sentences = []\n",
        "\n",
        "  for sentence in data_list['sentence text']:\n",
        "    each_specialtoken = []\n",
        "    for each in sentence:\n",
        "      each_specialtoken.append([\"[CLS] \" + each + \" [SEP]\" ])\n",
        "    specialtok_sentences.append(each_specialtoken)\n",
        "  return specialtok_sentences"
      ],
      "execution_count": 15,
      "outputs": []
    },
    {
      "cell_type": "code",
      "metadata": {
        "id": "J8DNwLWL2pNO"
      },
      "source": [
        "train_specialtok = add_specialtokens(train_list)\n",
        "val_specialtok = add_specialtokens(val_list)\n",
        "test_specialtok = add_specialtokens(test_list)"
      ],
      "execution_count": 16,
      "outputs": []
    },
    {
      "cell_type": "code",
      "metadata": {
        "colab": {
          "base_uri": "https://localhost:8080/"
        },
        "id": "xJ8212nk20WG",
        "outputId": "620fc4c1-0492-4003-951f-230a61c9e4ff"
      },
      "source": [
        "print(train_specialtok[0])\n",
        "print(train_specialtok[1])"
      ],
      "execution_count": 17,
      "outputs": [
        {
          "output_type": "stream",
          "text": [
            "[['[CLS] Papilin is an extracellular matrix glycoprotein [SEP]'], ['[CLS] apilins are homologous, secreted extracellular matrix proteins which share a common order of protein domains. [SEP]'], ['[CLS] Both MIG-6 isoforms have a predicted N-terminal papilin cassette [SEP]'], ['[CLS] The TSR superfamily is a diverse family of extracellular matrix and transmembrane proteins, many of which have functions related to regulating matrix organization, cell-cell interactions and cell guidance. [SEP]'], ['[CLS]  Collagen IV, laminin, glutactin, papilin, and other extracellular matrix proteins were made primarily by hemocytes and were secreted into the medium. [SEP]'], ['[CLS] A sulfated glycoprotein was isolated from the culture media of Drosophila Kc cells and named papilin. [SEP]'], ['[CLS] Using expression analysis, we identify three genes that are transcriptionally regulated by HLH-2: the protocadherin cdh-3, and two genes encoding secreted extracellular matrix proteins, mig-6/papilin and him-4/hemicentin. [SEP]'], ['[CLS] F-spondin, UNC-5, ADAMTS, papilin, and TRAP) where specific functions are assigned to the TSR domains. [SEP]'], ['[CLS] We found that mig-6 encodes long (MIG-6L) and short (MIG-6S) isoforms of the extracellular matrix protein papilin, each required for distinct aspects of DTC migration. [SEP]'], ['[CLS] Papilins are extracellular matrix proteins [SEP]'], ['[CLS] This review samples some of the contemporary literature regarding TSR superfamily members (e.g. [SEP]']]\n",
            "[['[CLS] Osteoprotegerin (OPG) and receptor activator of nuclear factor κB ligand (RANKL) are cytokines predominantly secreted by osteoblasts and play critical roles in the differentiation and function of osteoclasts. [SEP]'], ['[CLS] Receptor activator of nuclear factor κB ligand (RANKL) and osteoprotegerin (OPG) are cytokines predominantly secreted by osteoblasts and play a central role in differentiation and functional activation of osteoclasts [SEP]'], ['[CLS] It usually functions in bone remodeling, by inhibiting osteoclastogenesis through interaction with a receptor activator of the nuclear factor κB (RANKL). [SEP]'], ['[CLS] Osteoprotegerin (OPG) is a soluble secreted factor that acts as a decoy receptor for receptor activator of NF-κB ligand (RANKL) [SEP]'], ['[CLS] Osteoprotegerin (OPG) is an essential secreted protein in bone turnover due to its role as a decoy receptor for the Receptor Activator of Nuclear Factor-kB ligand (RANKL) in the osteoclasts, thus inhibiting their differentiation [SEP]'], ['[CLS] Osteoprotegerin (OPG) is a secreted glycoprotein and a member of the tumor necrosis factor receptor superfamily. [SEP]'], ['[CLS] OPG, on the other hand, is secreted by osteoblast as a decoy receptor for RANKL, prevents RANKL from binding to RANK and thus prevents bone resorption [SEP]'], ['[CLS] e RANKL/OPG ratio secreted by osteoblasts increased and RANK expression by osteoclasts increased, leading to increased osteoclastogenesis [SEP]'], ['[CLS] Activated human T cells express alternative mRNA transcripts encoding a secreted form of RANKL. [SEP]'], ['[CLS] Although B. abortus-activated T cells actively secreted the pro-osteoclastogenic cytokines RANKL and IL-17, osteoclastogenesis depended on IL-17, because osteoclast generation induced by Brucella-activated T cells was completely abrogated when these cells were cultured with BMMs from IL-17 receptor knockout mice. [SEP]'], ['[CLS] We identify a TNFSF11 transcript variant that extends the originally identified transcript encoding secreted RANKL. [SEP]'], ['[CLS] We isolated human fibroblasts from RA, pyrophosphate arthropathy (PPA) and osteoarthritis (OA) patients and analyzed their RANKL/OPG expression profile and the capacity of their secreted factors to induce osteoclastogenesis. [SEP]'], ['[CLS]  osteoclastogenesis and bone destruction in autoimmune arthritis. [SEP]']]\n"
          ],
          "name": "stdout"
        }
      ]
    },
    {
      "cell_type": "code",
      "metadata": {
        "id": "_nsQ8itK2-IW"
      },
      "source": [
        "def tokenize_sentences(specialtok_sentences):\n",
        "  tokenized_sentences = []\n",
        "\n",
        "  for sentence in specialtok_sentences:\n",
        "    eachsent_tokenized = []\n",
        "    for each in sentence:\n",
        "      eachsent_tokenized.append(tokenizer.tokenize(each[0]))\n",
        "    tokenized_sentences.append(eachsent_tokenized)\n",
        "  return tokenized_sentences"
      ],
      "execution_count": 18,
      "outputs": []
    },
    {
      "cell_type": "code",
      "metadata": {
        "id": "lgi8wXqU1uTg"
      },
      "source": [
        "train_tokenized = tokenize_sentences(train_specialtok)\n",
        "val_tokenized = tokenize_sentences(val_specialtok)\n",
        "test_tokenized = tokenize_sentences(test_specialtok)\n"
      ],
      "execution_count": 19,
      "outputs": []
    },
    {
      "cell_type": "code",
      "metadata": {
        "id": "hW6p7qIU4Thv"
      },
      "source": [
        "def data_tokenizedsent(tokenized_sentences, data_list):\n",
        "  data_list['tokenized_sentences'] = tokenized_sentences\n",
        "  return data_list"
      ],
      "execution_count": 20,
      "outputs": []
    },
    {
      "cell_type": "code",
      "metadata": {
        "colab": {
          "base_uri": "https://localhost:8080/"
        },
        "id": "rgJ0YFuS4kXP",
        "outputId": "28d68e9d-7b93-450c-f844-4dc343faa5d1"
      },
      "source": [
        "print(train_tokenized[0])"
      ],
      "execution_count": 21,
      "outputs": [
        {
          "output_type": "stream",
          "text": [
            "[['[CLS]', 'pa', '##pi', '##lin', 'is', 'an', 'extra', '##cellular', 'matrix', 'g', '##ly', '##co', '##pro', '##tein', '[SEP]'], ['[CLS]', 'api', '##lins', 'are', 'homo', '##log', '##ous', ',', 'secret', '##ed', 'extra', '##cellular', 'matrix', 'proteins', 'which', 'share', 'a', 'common', 'order', 'of', 'protein', 'domains', '.', '[SEP]'], ['[CLS]', 'both', 'mig', '-', '6', 'iso', '##forms', 'have', 'a', 'predicted', 'n', '-', 'terminal', 'pa', '##pi', '##lin', 'cassette', '[SEP]'], ['[CLS]', 'the', 'ts', '##r', 'superfamily', 'is', 'a', 'diverse', 'family', 'of', 'extra', '##cellular', 'matrix', 'and', 'trans', '##me', '##mb', '##rane', 'proteins', ',', 'many', 'of', 'which', 'have', 'functions', 'related', 'to', 'regulating', 'matrix', 'organization', ',', 'cell', '-', 'cell', 'interactions', 'and', 'cell', 'guidance', '.', '[SEP]'], ['[CLS]', 'col', '##lage', '##n', 'iv', ',', 'lam', '##ini', '##n', ',', 'g', '##lu', '##ta', '##ct', '##in', ',', 'pa', '##pi', '##lin', ',', 'and', 'other', 'extra', '##cellular', 'matrix', 'proteins', 'were', 'made', 'primarily', 'by', 'hem', '##ocytes', 'and', 'were', 'secret', '##ed', 'into', 'the', 'medium', '.', '[SEP]'], ['[CLS]', 'a', 'sulfate', '##d', 'g', '##ly', '##co', '##pro', '##tein', 'was', 'isolated', 'from', 'the', 'culture', 'media', 'of', 'dr', '##oso', '##phila', 'kc', 'cells', 'and', 'named', 'pa', '##pi', '##lin', '.', '[SEP]'], ['[CLS]', 'using', 'expression', 'analysis', ',', 'we', 'identify', 'three', 'genes', 'that', 'are', 'transcription', '##ally', 'regulated', 'by', 'h', '##l', '##h', '-', '2', ':', 'the', 'proto', '##ca', '##dh', '##erin', 'cd', '##h', '-', '3', ',', 'and', 'two', 'genes', 'encoding', 'secret', '##ed', 'extra', '##cellular', 'matrix', 'proteins', ',', 'mig', '-', '6', '/', 'pa', '##pi', '##lin', 'and', 'him', '-', '4', '/', 'hem', '##ice', '##nti', '##n', '.', '[SEP]'], ['[CLS]', 'f', '-', 'sp', '##ond', '##in', ',', 'un', '##c', '-', '5', ',', 'adam', '##ts', ',', 'pa', '##pi', '##lin', ',', 'and', 'trap', ')', 'where', 'specific', 'functions', 'are', 'assigned', 'to', 'the', 'ts', '##r', 'domains', '.', '[SEP]'], ['[CLS]', 'we', 'found', 'that', 'mig', '-', '6', 'en', '##codes', 'long', '(', 'mig', '-', '6', '##l', ')', 'and', 'short', '(', 'mig', '-', '6', '##s', ')', 'iso', '##forms', 'of', 'the', 'extra', '##cellular', 'matrix', 'protein', 'pa', '##pi', '##lin', ',', 'each', 'required', 'for', 'distinct', 'aspects', 'of', 'dt', '##c', 'migration', '.', '[SEP]'], ['[CLS]', 'pa', '##pi', '##lins', 'are', 'extra', '##cellular', 'matrix', 'proteins', '[SEP]'], ['[CLS]', 'this', 'review', 'samples', 'some', 'of', 'the', 'contemporary', 'literature', 'regarding', 'ts', '##r', 'superfamily', 'members', '(', 'e', '.', 'g', '.', '[SEP]']]\n"
          ],
          "name": "stdout"
        }
      ]
    },
    {
      "cell_type": "code",
      "metadata": {
        "id": "TZMhWwmZ4oae"
      },
      "source": [
        "data_train_tokenized = data_tokenizedsent(train_tokenized, train_list)\n",
        "data_val_tokenized = data_tokenizedsent(val_tokenized, val_list)\n",
        "data_test_tokenized = data_tokenizedsent(test_tokenized, test_list)"
      ],
      "execution_count": 22,
      "outputs": []
    },
    {
      "cell_type": "code",
      "metadata": {
        "colab": {
          "base_uri": "https://localhost:8080/"
        },
        "id": "NiHS9PKB43h4",
        "outputId": "19cfc731-665c-45de-c074-51a6410d0717"
      },
      "source": [
        "print(data_train_tokenized.columns.values)"
      ],
      "execution_count": 23,
      "outputs": [
        {
          "output_type": "stream",
          "text": [
            "['qid' 'SU4' 'SU4_labels' 'sentence text' 'tokenized_sentences']\n"
          ],
          "name": "stdout"
        }
      ]
    },
    {
      "cell_type": "code",
      "metadata": {
        "colab": {
          "base_uri": "https://localhost:8080/"
        },
        "id": "5WHXKf6E5ZQ3",
        "outputId": "a742a501-1fe5-439a-aff1-c7ef52669f75"
      },
      "source": [
        "print(len(train_tokenized[0]))\n",
        "print(len(train_tokenized[1]))\n",
        "print(len(train_tokenized[2]))"
      ],
      "execution_count": 24,
      "outputs": [
        {
          "output_type": "stream",
          "text": [
            "11\n",
            "13\n",
            "32\n"
          ],
          "name": "stdout"
        }
      ]
    },
    {
      "cell_type": "code",
      "metadata": {
        "id": "kHb0_VKg53Mm"
      },
      "source": [
        "def token2ids(tokenized_sentences):\n",
        "  # Set the maximum sequence length. \n",
        "  MAX_LEN = 512\n",
        "  token_ids = []\n",
        "\n",
        "  for tokenized_sentence in tokenized_sentences:\n",
        "    tokens_to_ids = [tokenizer.convert_tokens_to_ids(each) for each in tokenized_sentence]\n",
        "    tokens_to_ids = pad_sequences(tokens_to_ids, maxlen=MAX_LEN, dtype=\"long\", truncating=\"post\", padding=\"post\")\n",
        "    token_ids.append(tokens_to_ids)\n",
        "  return token_ids"
      ],
      "execution_count": 25,
      "outputs": []
    },
    {
      "cell_type": "code",
      "metadata": {
        "colab": {
          "base_uri": "https://localhost:8080/"
        },
        "id": "DGZvHIjh6qHL",
        "outputId": "64c898cf-6e78-473b-ea6a-b57fa1124610"
      },
      "source": [
        "train_tokens2ids = token2ids(train_tokenized)\n",
        "val_tokens2ids = token2ids(val_tokenized)\n",
        "test_tokens2ids = token2ids(test_tokenized)"
      ],
      "execution_count": 26,
      "outputs": [
        {
          "output_type": "stream",
          "text": [
            "Token indices sequence length is longer than the specified maximum  sequence length for this BERT model (529 > 512). Running this sequence through BERT will result in indexing errors\n"
          ],
          "name": "stderr"
        }
      ]
    },
    {
      "cell_type": "code",
      "metadata": {
        "colab": {
          "base_uri": "https://localhost:8080/"
        },
        "id": "SiArL92V7IO3",
        "outputId": "47fb2283-947c-4b89-de19-c01b2949f6dd"
      },
      "source": [
        "print(len(train_tokens2ids))\n",
        "print(len(train_tokens2ids[0]))\n",
        "print(len(train_tokens2ids[1]))"
      ],
      "execution_count": 27,
      "outputs": [
        {
          "output_type": "stream",
          "text": [
            "2075\n",
            "11\n",
            "13\n"
          ],
          "name": "stdout"
        }
      ]
    },
    {
      "cell_type": "code",
      "metadata": {
        "id": "xbQNwNja5q2O"
      },
      "source": [
        "def create_masks(token_ids):\n",
        "  attention_masks = []\n",
        "\n",
        "  for tid in token_ids:\n",
        "    eachtid_mask = []\n",
        "    for each in tid:\n",
        "      mask = [float(i>0) for i in each] #for each token \n",
        "      eachtid_mask.append(mask)#for each sentence\n",
        "    attention_masks.append(eachtid_mask)\n",
        "  return attention_masks"
      ],
      "execution_count": 28,
      "outputs": []
    },
    {
      "cell_type": "code",
      "metadata": {
        "id": "Ez0g4unJ9j1T"
      },
      "source": [
        "train_masks = create_masks(train_tokens2ids)\n",
        "val_masks = create_masks(val_tokens2ids)\n",
        "test_masks = create_masks(test_tokens2ids)"
      ],
      "execution_count": 29,
      "outputs": []
    },
    {
      "cell_type": "code",
      "metadata": {
        "colab": {
          "base_uri": "https://localhost:8080/"
        },
        "id": "KOJdR6bt8A3z",
        "outputId": "c5a5503a-3143-4c12-a548-20762329f48b"
      },
      "source": [
        "print(len(train_masks))\n",
        "print(len(train_masks[0]))\n",
        "print(len(train_masks[0][0]))\n",
        "print(len(train_masks[1]))\n",
        "print(len(train_masks[1][1]))\n",
        "\n",
        "print(len(val_masks))\n",
        "\n",
        "print(len(test_masks))\n"
      ],
      "execution_count": 30,
      "outputs": [
        {
          "output_type": "stream",
          "text": [
            "2075\n",
            "11\n",
            "512\n",
            "13\n",
            "512\n",
            "519\n",
            "648\n"
          ],
          "name": "stdout"
        }
      ]
    },
    {
      "cell_type": "code",
      "metadata": {
        "id": "OoRD5clS2cTv"
      },
      "source": [
        "#convert data into tensors"
      ],
      "execution_count": null,
      "outputs": []
    },
    {
      "cell_type": "code",
      "metadata": {
        "id": "d6-5iLDW2f3O"
      },
      "source": [
        "#define the model"
      ],
      "execution_count": null,
      "outputs": []
    },
    {
      "cell_type": "code",
      "metadata": {
        "id": "V-_SKMHE2kBn"
      },
      "source": [
        "#train the model"
      ],
      "execution_count": null,
      "outputs": []
    }
  ]
}