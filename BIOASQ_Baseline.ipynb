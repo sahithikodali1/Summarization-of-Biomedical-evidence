{
  "nbformat": 4,
  "nbformat_minor": 0,
  "metadata": {
    "colab": {
      "name": "BIOASQ_Baseline.ipynb",
      "provenance": [],
      "collapsed_sections": [],
      "mount_file_id": "1Q4j6uSw6JhJhqaQ9LxaUrvNdMOW9g07J",
      "authorship_tag": "ABX9TyOXa1IUl4QZG8EUwpQ9Q2Ub",
      "include_colab_link": true
    },
    "kernelspec": {
      "display_name": "Python 3",
      "name": "python3"
    },
    "language_info": {
      "name": "python"
    }
  },
  "cells": [
    {
      "cell_type": "markdown",
      "metadata": {
        "id": "view-in-github",
        "colab_type": "text"
      },
      "source": [
        "<a href=\"https://colab.research.google.com/github/sahithikodali1/Summarization-of-Biomedical-evidence/blob/Data_processing/BIOASQ_Baseline.ipynb\" target=\"_parent\"><img src=\"https://colab.research.google.com/assets/colab-badge.svg\" alt=\"Open In Colab\"/></a>"
      ]
    },
    {
      "cell_type": "code",
      "metadata": {
        "colab": {
          "base_uri": "https://localhost:8080/"
        },
        "id": "OmPJRc69hX1u",
        "outputId": "3bb2ea3d-12b6-48a3-de77-3bbf9833e43c"
      },
      "source": [
        "import numpy as np\n",
        "import pandas as pd\n",
        "import os\n",
        "\n",
        "print(os.listdir(\"/content/drive/MyDrive/Thesis_B\"))"
      ],
      "execution_count": 1,
      "outputs": [
        {
          "output_type": "stream",
          "text": [
            "['rouge_8b_mod.csv', '.ipynb_checkpoints', 'test_data.csv', 'train_data.csv']\n"
          ],
          "name": "stdout"
        }
      ]
    },
    {
      "cell_type": "code",
      "metadata": {
        "id": "E2HrufEhQFyA"
      },
      "source": [
        "DATA_DIR = \"/content/drive/MyDrive/Thesis_B\"\n",
        "\n",
        "file = pd.read_csv(os.path.join(DATA_DIR,'rouge_8b_mod.csv'))\n",
        "f_values = file.values\n",
        "# print(f_values[:10])\n",
        "# print(col_names[:10])\n",
        "q_id_split = np.split(f_values, np.where(np.diff(f_values[:,0]))[0]+1)\n",
        "# print(q_id_split[:2])"
      ],
      "execution_count": 2,
      "outputs": []
    },
    {
      "cell_type": "code",
      "metadata": {
        "colab": {
          "base_uri": "https://localhost:8080/"
        },
        "id": "lPZjUxtKQbWn",
        "outputId": "3d638fb4-3bf6-4719-94b0-6ebcd1575cc5"
      },
      "source": [
        "train_data_size = round(len(q_id_split)*0.8)\n",
        "test_data_size = round(len(q_id_split) - train_data_size)\n",
        "print(train_data_size)\n",
        "print(test_data_size)"
      ],
      "execution_count": 3,
      "outputs": [
        {
          "output_type": "stream",
          "text": [
            "2594\n",
            "648\n"
          ],
          "name": "stdout"
        }
      ]
    },
    {
      "cell_type": "code",
      "metadata": {
        "colab": {
          "base_uri": "https://localhost:8080/"
        },
        "id": "DPsL_08rQIkN",
        "outputId": "2ee451cb-5d6e-4c22-e31a-d13e41ec598c"
      },
      "source": [
        "import random\n",
        "random.seed(3007)\n",
        "random.shuffle(q_id_split)\n",
        "print(q_id_split[:1])"
      ],
      "execution_count": 6,
      "outputs": [
        {
          "output_type": "stream",
          "text": [
            "[array([[984, '5547a7e9f35db75526000006', 4, 0.36687, 0.31138000000000005,\n",
            "        0.29091, 0.26994, 0.30142,\n",
            "        'During nucleotide excision repair (NER) in bacteria the UvrC nuclease and the short oligonucleotide that contains the DNA lesion are removed from the post-incision complex by UvrD, a superfamily 1A helicase.',\n",
            "        1],\n",
            "       [984, '5547a7e9f35db75526000006', 17, 0.2436, 0.23376, 0.22369,\n",
            "        0.21333, 0.21682,\n",
            "        'Damage recognition during bacterial NER depends upon UvrA, which binds to the damage and loads UvrB onto the DNA.',\n",
            "        1],\n",
            "       [984, '5547a7e9f35db75526000006', 3, 0.2436, 0.23376, 0.22369,\n",
            "        0.21333, 0.21682,\n",
            "        'In eubacteria, the NER system typically consists of UvrA, UvrB, UvrC, the UvrD helicase, DNA polymerase I, and ligase.',\n",
            "        1],\n",
            "       [984, '5547a7e9f35db75526000006', 6, 0.3237, 0.21052, 0.16568,\n",
            "        0.14371, 0.19881,\n",
            "        'PcrA helicase from Bacillus stearothermophilus can also displace UvrC and the excised oligonucleotide from a post-incision NER complex, which supports the idea that PcrA performs a UvrD-like function during NER in gram-positive organisms.',\n",
            "        1],\n",
            "       [984, '5547a7e9f35db75526000006', 8, 0.27672, 0.22929, 0.18064,\n",
            "        0.14379, 0.19739,\n",
            "        'Nucleotide excision repair consists of excinuclease protein UvrABC endonuclease, multi-enzymatic complex which carries out repair of damaged DNA in sequential manner.',\n",
            "        1],\n",
            "       [984, '5547a7e9f35db75526000006', 2, 0.20915, 0.19867, 0.18791,\n",
            "        0.17686, 0.18059,\n",
            "        'Nucleotide excision repair (NER) is universally used to recognize and remove many types of DNA damage.',\n",
            "        0],\n",
            "       [984, '5547a7e9f35db75526000006', 9, 0.21112,\n",
            "        0.056170000000000005, 0.02272, 0.01149, 0.08206000000000001,\n",
            "        'Escherichia coli K12 mutant strains deficient in nucleotide excision repair (NER) were submitted to increasing concentrations of cisplatin, and the results revealed that uvrA and uvrB mutants are sensitive to this agent, while uvrC and cho mutants remain as the wild type strain.',\n",
            "        0],\n",
            "       [984, '5547a7e9f35db75526000006', 7, 0.15789, 0.06666, 0.02702,\n",
            "        0.0, 0.06591,\n",
            "        'Cho rather than UvrC seems to be an effective nuclease for the NER of DPCs.',\n",
            "        0],\n",
            "       [984, '5547a7e9f35db75526000006', 0, 0.15663, 0.0244, 0.0, 0.0,\n",
            "        0.056020000000000014,\n",
            "        'we evaluated the in vivo role of NER in the repair of DNA adducts generated by psoralens (mono- or bi-functional) and UV-A light (PUVA) in E. coli.',\n",
            "        0],\n",
            "       [984, '5547a7e9f35db75526000006', 15, 0.17390999999999998,\n",
            "        0.05031, 0.02547, 0.0129, 0.055679999999999986,\n",
            "        'Transcription-coupled DNA repair (TCR) is a subpathway of nucleotide excision repair (NER) that is triggered when RNA polymerase is stalled by DNA damage.',\n",
            "        0],\n",
            "       [984, '5547a7e9f35db75526000006', 10, 0.13835999999999998,\n",
            "        0.03822, 0.0258, 0.013069999999999998, 0.04555,\n",
            "        'we used a genetic approach to investigate the roles of nucleotide excision repair (NER) pathway components in H. pylori mutation and recombination.',\n",
            "        0],\n",
            "       [984, '5547a7e9f35db75526000006', 5, 0.1081, 0.0411, 0.02777,\n",
            "        0.01408, 0.04205,\n",
            "        'UvrD interacts with UvrB, a component of the post-incision complex.',\n",
            "        0],\n",
            "       [984, '5547a7e9f35db75526000006', 12, 0.11042, 0.01242, 0.0, 0.0,\n",
            "        0.03594,\n",
            "        'Inactivation of uvrA and uvrB significantly decreased mutation frequencies whereas only the uvrA deficient mutant exhibited a significant decrease of the recombination frequency after natural transformation.',\n",
            "        0],\n",
            "       [984, '5547a7e9f35db75526000006', 11, 0.1132, 0.01273, 0.0, 0.0,\n",
            "        0.034710000000000005,\n",
            "        'RESULTS: Inactivation of any of the four uvr genes strongly increased the susceptibility of H. pylori to DNA damage by ultraviolet light.',\n",
            "        0],\n",
            "       [984, '5547a7e9f35db75526000006', 13, 0.11628, 0.0, 0.0, 0.0,\n",
            "        0.03,\n",
            "        'A uvrC mutant did not show significant changes in mutation or recombination rates; however, inactivation of uvrC promoted the incorporation of significantly longer fragments of donor DNA (2.2-fold increase) into the recipient chromosome.',\n",
            "        0],\n",
            "       [984, '5547a7e9f35db75526000006', 18, 0.0915, 0.0, 0.0, 0.0,\n",
            "        0.02935,\n",
            "        'Bacterial TCR additionally requires the Mfd protein, a DNA translocase that removes the stalled transcription complexes.',\n",
            "        0],\n",
            "       [984, '5547a7e9f35db75526000006', 1, 0.08641, 0.02501, 0.01266,\n",
            "        0.0, 0.02766,\n",
            "        'Cultures of wild-type E. coli K12 and mutants for uvrA, uvrB, uvrC or uvrAC genes were treated with PUVA and cell survival was determined.',\n",
            "        0],\n",
            "       [984, '5547a7e9f35db75526000006', 16, 0.08484, 0.0, 0.0, 0.0,\n",
            "        0.01879,\n",
            "        'Lesions targeted by TCR are repaired more quickly than lesions repaired by the transcription-independent \"global\" NER pathway, but the mechanism underlying this rate enhancement is not understood.',\n",
            "        0],\n",
            "       [984, '5547a7e9f35db75526000006', 14, 0.0548, 0.0, 0.0, 0.0,\n",
            "        0.01421,\n",
            "        'A deletion of uvrD induced a hyper-recombinational phenotype.',\n",
            "        0]], dtype=object)]\n"
          ],
          "name": "stdout"
        }
      ]
    },
    {
      "cell_type": "code",
      "metadata": {
        "colab": {
          "base_uri": "https://localhost:8080/"
        },
        "id": "uTRhrGLmQyuP",
        "outputId": "67be203b-4c2a-493c-8145-f5754240a543"
      },
      "source": [
        "train_data = q_id_split[:2594]\n",
        "test_data = q_id_split[2594:]\n",
        "f_values_train = np.concatenate(train_data, axis=0)\n",
        "f_values_test = np.concatenate(test_data, axis=0)\n",
        "col_names = file.columns\n",
        "print(col_names)\n",
        "\n",
        "train_df = pd.DataFrame(f_values_train, columns = col_names)\n",
        "test_df = pd.DataFrame(f_values_test, columns = col_names)"
      ],
      "execution_count": 7,
      "outputs": [
        {
          "output_type": "stream",
          "text": [
            "Index(['qid', 'pubmedid', 'sentid', 'N1', 'N2', 'L', 'S4', 'SU4',\n",
            "       'sentence text', 'SU4_labels'],\n",
            "      dtype='object')\n"
          ],
          "name": "stdout"
        }
      ]
    },
    {
      "cell_type": "code",
      "metadata": {
        "colab": {
          "base_uri": "https://localhost:8080/"
        },
        "id": "TIG3Y34qVd_O",
        "outputId": "a8ac74f9-155e-449e-84ee-6bdb28f000cc"
      },
      "source": [
        "print(train_data[:3])\n",
        "print('**************8')\n",
        "print(test_data[:3])"
      ],
      "execution_count": 8,
      "outputs": [
        {
          "output_type": "stream",
          "text": [
            "[array([[984, '5547a7e9f35db75526000006', 4, 0.36687, 0.31138000000000005,\n",
            "        0.29091, 0.26994, 0.30142,\n",
            "        'During nucleotide excision repair (NER) in bacteria the UvrC nuclease and the short oligonucleotide that contains the DNA lesion are removed from the post-incision complex by UvrD, a superfamily 1A helicase.',\n",
            "        1],\n",
            "       [984, '5547a7e9f35db75526000006', 17, 0.2436, 0.23376, 0.22369,\n",
            "        0.21333, 0.21682,\n",
            "        'Damage recognition during bacterial NER depends upon UvrA, which binds to the damage and loads UvrB onto the DNA.',\n",
            "        1],\n",
            "       [984, '5547a7e9f35db75526000006', 3, 0.2436, 0.23376, 0.22369,\n",
            "        0.21333, 0.21682,\n",
            "        'In eubacteria, the NER system typically consists of UvrA, UvrB, UvrC, the UvrD helicase, DNA polymerase I, and ligase.',\n",
            "        1],\n",
            "       [984, '5547a7e9f35db75526000006', 6, 0.3237, 0.21052, 0.16568,\n",
            "        0.14371, 0.19881,\n",
            "        'PcrA helicase from Bacillus stearothermophilus can also displace UvrC and the excised oligonucleotide from a post-incision NER complex, which supports the idea that PcrA performs a UvrD-like function during NER in gram-positive organisms.',\n",
            "        1],\n",
            "       [984, '5547a7e9f35db75526000006', 8, 0.27672, 0.22929, 0.18064,\n",
            "        0.14379, 0.19739,\n",
            "        'Nucleotide excision repair consists of excinuclease protein UvrABC endonuclease, multi-enzymatic complex which carries out repair of damaged DNA in sequential manner.',\n",
            "        1],\n",
            "       [984, '5547a7e9f35db75526000006', 2, 0.20915, 0.19867, 0.18791,\n",
            "        0.17686, 0.18059,\n",
            "        'Nucleotide excision repair (NER) is universally used to recognize and remove many types of DNA damage.',\n",
            "        0],\n",
            "       [984, '5547a7e9f35db75526000006', 9, 0.21112,\n",
            "        0.056170000000000005, 0.02272, 0.01149, 0.08206000000000001,\n",
            "        'Escherichia coli K12 mutant strains deficient in nucleotide excision repair (NER) were submitted to increasing concentrations of cisplatin, and the results revealed that uvrA and uvrB mutants are sensitive to this agent, while uvrC and cho mutants remain as the wild type strain.',\n",
            "        0],\n",
            "       [984, '5547a7e9f35db75526000006', 7, 0.15789, 0.06666, 0.02702,\n",
            "        0.0, 0.06591,\n",
            "        'Cho rather than UvrC seems to be an effective nuclease for the NER of DPCs.',\n",
            "        0],\n",
            "       [984, '5547a7e9f35db75526000006', 0, 0.15663, 0.0244, 0.0, 0.0,\n",
            "        0.056020000000000014,\n",
            "        'we evaluated the in vivo role of NER in the repair of DNA adducts generated by psoralens (mono- or bi-functional) and UV-A light (PUVA) in E. coli.',\n",
            "        0],\n",
            "       [984, '5547a7e9f35db75526000006', 15, 0.17390999999999998,\n",
            "        0.05031, 0.02547, 0.0129, 0.055679999999999986,\n",
            "        'Transcription-coupled DNA repair (TCR) is a subpathway of nucleotide excision repair (NER) that is triggered when RNA polymerase is stalled by DNA damage.',\n",
            "        0],\n",
            "       [984, '5547a7e9f35db75526000006', 10, 0.13835999999999998,\n",
            "        0.03822, 0.0258, 0.013069999999999998, 0.04555,\n",
            "        'we used a genetic approach to investigate the roles of nucleotide excision repair (NER) pathway components in H. pylori mutation and recombination.',\n",
            "        0],\n",
            "       [984, '5547a7e9f35db75526000006', 5, 0.1081, 0.0411, 0.02777,\n",
            "        0.01408, 0.04205,\n",
            "        'UvrD interacts with UvrB, a component of the post-incision complex.',\n",
            "        0],\n",
            "       [984, '5547a7e9f35db75526000006', 12, 0.11042, 0.01242, 0.0, 0.0,\n",
            "        0.03594,\n",
            "        'Inactivation of uvrA and uvrB significantly decreased mutation frequencies whereas only the uvrA deficient mutant exhibited a significant decrease of the recombination frequency after natural transformation.',\n",
            "        0],\n",
            "       [984, '5547a7e9f35db75526000006', 11, 0.1132, 0.01273, 0.0, 0.0,\n",
            "        0.034710000000000005,\n",
            "        'RESULTS: Inactivation of any of the four uvr genes strongly increased the susceptibility of H. pylori to DNA damage by ultraviolet light.',\n",
            "        0],\n",
            "       [984, '5547a7e9f35db75526000006', 13, 0.11628, 0.0, 0.0, 0.0,\n",
            "        0.03,\n",
            "        'A uvrC mutant did not show significant changes in mutation or recombination rates; however, inactivation of uvrC promoted the incorporation of significantly longer fragments of donor DNA (2.2-fold increase) into the recipient chromosome.',\n",
            "        0],\n",
            "       [984, '5547a7e9f35db75526000006', 18, 0.0915, 0.0, 0.0, 0.0,\n",
            "        0.02935,\n",
            "        'Bacterial TCR additionally requires the Mfd protein, a DNA translocase that removes the stalled transcription complexes.',\n",
            "        0],\n",
            "       [984, '5547a7e9f35db75526000006', 1, 0.08641, 0.02501, 0.01266,\n",
            "        0.0, 0.02766,\n",
            "        'Cultures of wild-type E. coli K12 and mutants for uvrA, uvrB, uvrC or uvrAC genes were treated with PUVA and cell survival was determined.',\n",
            "        0],\n",
            "       [984, '5547a7e9f35db75526000006', 16, 0.08484, 0.0, 0.0, 0.0,\n",
            "        0.01879,\n",
            "        'Lesions targeted by TCR are repaired more quickly than lesions repaired by the transcription-independent \"global\" NER pathway, but the mechanism underlying this rate enhancement is not understood.',\n",
            "        0],\n",
            "       [984, '5547a7e9f35db75526000006', 14, 0.0548, 0.0, 0.0, 0.0,\n",
            "        0.01421,\n",
            "        'A deletion of uvrD induced a hyper-recombinational phenotype.',\n",
            "        0]], dtype=object), array([[438, '5311b99ae3eabad021000004', 0, 0.36735, 0.16667, 0.10638,\n",
            "        0.06522, 0.13309,\n",
            "        'kidney dysfunction and decreased glomerular filtration rate (GFR) are diagnosed by the evaluation of changes in the serum creatinine (SCr) and blood urea nitrogen (BUN) concentrations.',\n",
            "        1],\n",
            "       [438, '5311b99ae3eabad021000004', 8, 0.25743, 0.08081, 0.04123,\n",
            "        0.02105, 0.08362,\n",
            "        'After kidney donation, renal function measured by blood urea nitrogen (BUN) and serum creatinine of all donors returned to normal within one week, and no serious complications were noticed.',\n",
            "        1],\n",
            "       [438, '5311b99ae3eabad021000004', 4, 0.18947, 0.04301, 0.02198,\n",
            "        0.0, 0.05204,\n",
            "        'Acute kidney injury was defined as a decrease in estimated glomerular filtration rate of 50% or more from the beginning of vancomycin therapy.',\n",
            "        1],\n",
            "       [438, '5311b99ae3eabad021000004', 7, 0.19565, 0.06666, 0.02273,\n",
            "        0.0, 0.05,\n",
            "        'Serum creatinine, blood urea nitrogen, cystatin C, and estimated GFR (eGFR), based on serum creatinine have failed to replace mGFR.',\n",
            "        1],\n",
            "       [438, '5311b99ae3eabad021000004', 6, 0.1647, 0.04819, 0.0247, 0.0,\n",
            "        0.04602,\n",
            "        'The physiologic determination of renal status is the measured glomerular filtration rate (mGFR).',\n",
            "        1],\n",
            "       [438, '5311b99ae3eabad021000004', 5, 0.12371, 0.0, 0.0, 0.0,\n",
            "        0.03272,\n",
            "        ' In critically ill children, the development of reversible AKI during vancomycin therapy is associated with administration of nephrotoxic drugs and an elevated BUN: Scr ratio.',\n",
            "        0],\n",
            "       [438, '5311b99ae3eabad021000004', 1, 0.10988, 0.0, 0.0, 0.0,\n",
            "        0.03113,\n",
            "        'Renal biomarkers, especially those present in urine, may be useful for the study of both acute and chronic nephropathies.',\n",
            "        0],\n",
            "       [438, '5311b99ae3eabad021000004', 3, 0.125, 0.0, 0.0, 0.0,\n",
            "        0.02574,\n",
            "        'Decreased tryptophan (TRP) and increased kynurenine (KYN) and kynurenic acid (KYNA) in blood have been reported in patients and experimental animals with renal diseases.',\n",
            "        0],\n",
            "       [438, '5311b99ae3eabad021000004', 9, 0.09412, 0.0, 0.0, 0.0,\n",
            "        0.0251,\n",
            "        ' In living kidney donors GFR is not significantly correlated with age or sex.',\n",
            "        0],\n",
            "       [438, '5311b99ae3eabad021000004', 2, 0.09092, 0.0, 0.0, 0.0,\n",
            "        0.02419,\n",
            "        'The International Renal Interest Society (IRIS) canine AKI grading system and the implementation of urinary biomarkers',\n",
            "        0],\n",
            "       [438, '5311b99ae3eabad021000004', 13, 0.09092, 0.02325, 0.0, 0.0,\n",
            "        0.02016,\n",
            "        'We identify pleiotropic associations among these loci with kidney function-related traits and risk of CKD.',\n",
            "        0],\n",
            "       [438, '5311b99ae3eabad021000004', 12, 0.08792, 0.0, 0.0, 0.0,\n",
            "        0.01946,\n",
            "        'However, 4 months after the cessation of the treatment, a little increase was detected in the level of proteinuria.',\n",
            "        0],\n",
            "       [438, '5311b99ae3eabad021000004', 11, 0.07767, 0.0, 0.0, 0.0,\n",
            "        0.01707,\n",
            "        'A reduction of proteinuria in patients with non-diabetic renal disease was observed during the 4-month treatment with pioglitazone which continued for 2 months after the cessation of the treatment.',\n",
            "        0],\n",
            "       [438, '5311b99ae3eabad021000004', 10, 0.06897, 0.0, 0.0, 0.0,\n",
            "        0.01224,\n",
            "        'Increased proteinuria would lead to a larger risk for renal failure in the long term',\n",
            "        0]], dtype=object), array([[2882, '5c783236d774d04240000001', 1, 0.94737, 0.94118, 0.93333,\n",
            "        0.92308, 0.92683,\n",
            "        'Collagen is the most abundant protein family in mammals.', 1],\n",
            "       [2882, '5c783236d774d04240000001', 0, 0.35898, 0.21622, 0.11428,\n",
            "        0.0606, 0.19802,\n",
            "        'As the most abundant protein in the body, collagen is essential to maintain the normal structure and strength of connective tissue, such as bones, skin, cartilage, and blood vessels.',\n",
            "        1],\n",
            "       [2882, '5c783236d774d04240000001', 3, 0.3125, 0.13333, 0.07143,\n",
            "        0.0, 0.175,\n",
            "        'This molecule is one of the most abundant in many of the living organisms due to its connective role in biological structures.',\n",
            "        1],\n",
            "       [2882, '5c783236d774d04240000001', 2, 0.32259, 0.06897, 0.0, 0.0,\n",
            "        0.11689,\n",
            "        'Collagen is a fibrillar protein that conforms the conjunctive and connective tissues in the human body, essentially skin, joints, and bones.',\n",
            "        1]], dtype=object)]\n",
            "**************8\n",
            "[array([[1517, '56af7b820a360a5e45000014', 0, 0.51613, 0.46154, 0.42697,\n",
            "        0.3908, 0.41825,\n",
            "        'Here we introduce Chromatin Isolation by RNA Purification (ChIRP), where tiling oligonucleotides retrieve specific lncRNAs with bound protein and DNA sequences, which are enumerated by deep sequencing.',\n",
            "        1],\n",
            "       [1517, '56af7b820a360a5e45000014', 12, 0.51613, 0.46154, 0.42697,\n",
            "        0.3908, 0.41825,\n",
            "        'Here we introduce Chromatin Isolation by RNA Purification (ChIRP), where tiling oligonucleotides retrieve specific lncRNAs with bound protein and DNA sequences, which are enumerated by deep sequencing.',\n",
            "        1],\n",
            "       [1517, '56af7b820a360a5e45000014', 19, 0.51613, 0.46154, 0.42697,\n",
            "        0.3908, 0.41825,\n",
            "        'Here we introduce Chromatin Isolation by RNA Purification (ChIRP), where tiling oligonucleotides retrieve specific lncRNAs with bound protein and DNA sequences, which are enumerated by deep sequencing.',\n",
            "        1],\n",
            "       [1517, '56af7b820a360a5e45000014', 9, 0.51613, 0.46154, 0.42697,\n",
            "        0.3908, 0.41825,\n",
            "        'Here we introduce Chromatin Isolation by RNA Purification (ChIRP), where tiling oligonucleotides retrieve specific lncRNAs with bound protein and DNA sequences, which are enumerated by deep sequencing.',\n",
            "        1],\n",
            "       [1517, '56af7b820a360a5e45000014', 16, 0.51613, 0.46154, 0.42697,\n",
            "        0.3908, 0.41825,\n",
            "        'Here we introduce Chromatin Isolation by RNA Purification (ChIRP), where tiling oligonucleotides retrieve specific lncRNAs with bound protein and DNA sequences, which are enumerated by deep sequencing.',\n",
            "        1],\n",
            "       [1517, '56af7b820a360a5e45000014', 10, 0.51613, 0.46154, 0.42697,\n",
            "        0.3908, 0.41825,\n",
            "        'Here we introduce Chromatin Isolation by RNA Purification (ChIRP), where tiling oligonucleotides retrieve specific lncRNAs with bound protein and DNA sequences, which are enumerated by deep sequencing.',\n",
            "        0],\n",
            "       [1517, '56af7b820a360a5e45000014', 21, 0.51613, 0.46154, 0.42697,\n",
            "        0.3908, 0.41825,\n",
            "        'Here we introduce Chromatin Isolation by RNA Purification (ChIRP), where tiling oligonucleotides retrieve specific lncRNAs with bound protein and DNA sequences, which are enumerated by deep sequencing.',\n",
            "        0],\n",
            "       [1517, '56af7b820a360a5e45000014', 1, 0.44706, 0.43373, 0.41975,\n",
            "        0.40507, 0.41004,\n",
            "        'ChIRP-seq of three lncRNAs reveal that RNA occupancy sites in the genome are focal, sequence-specific, and numerous.',\n",
            "        0],\n",
            "       [1517, '56af7b820a360a5e45000014', 8, 0.44706, 0.43373, 0.41975,\n",
            "        0.40507, 0.41004,\n",
            "        'ChIRP-seq of three lncRNAs reveal that RNA occupancy sites in the genome are focal, sequence-specific, and numerous.',\n",
            "        0],\n",
            "       [1517, '56af7b820a360a5e45000014', 22, 0.44706, 0.43373, 0.41975,\n",
            "        0.40507, 0.41004,\n",
            "        'ChIRP-seq of three lncRNAs reveal that RNA occupancy sites in the genome are focal, sequence-specific, and numerous.',\n",
            "        0],\n",
            "       [1517, '56af7b820a360a5e45000014', 13, 0.44706, 0.43373, 0.41975,\n",
            "        0.40507, 0.41004,\n",
            "        'ChIRP-seq of three lncRNAs reveal that RNA occupancy sites in the genome are focal, sequence-specific, and numerous.',\n",
            "        0],\n",
            "       [1517, '56af7b820a360a5e45000014', 17, 0.44706, 0.43373, 0.41975,\n",
            "        0.40507, 0.41004,\n",
            "        'ChIRP-seq of three lncRNAs reveal that RNA occupancy sites in the genome are focal, sequence-specific, and numerous.',\n",
            "        0],\n",
            "       [1517, '56af7b820a360a5e45000014', 15, 0.42857, 0.41464, 0.4,\n",
            "        0.38462, 0.38984,\n",
            "        'ChIRP-seq is generally applicable to illuminate the intersection of RNA and chromatin with newfound precision genome wide.',\n",
            "        0],\n",
            "       [1517, '56af7b820a360a5e45000014', 7, 0.42857, 0.41464, 0.4,\n",
            "        0.38462, 0.38984,\n",
            "        'ChIRP-seq is generally applicable to illuminate the intersection of RNA and chromatin with newfound precision genome wide.',\n",
            "        0],\n",
            "       [1517, '56af7b820a360a5e45000014', 6, 0.42857, 0.41464, 0.4,\n",
            "        0.38462, 0.38984,\n",
            "        'ChIRP-seq is generally applicable to illuminate the intersection of RNA and chromatin with newfound precision genome wide.',\n",
            "        0],\n",
            "       [1517, '56af7b820a360a5e45000014', 20, 0.42857, 0.41464, 0.4,\n",
            "        0.38462, 0.38984,\n",
            "        'ChIRP-seq is generally applicable to illuminate the intersection of RNA and chromatin with newfound precision genome wide.',\n",
            "        0],\n",
            "       [1517, '56af7b820a360a5e45000014', 11, 0.42857, 0.41464, 0.4,\n",
            "        0.38462, 0.38984,\n",
            "        'ChIRP-seq is generally applicable to illuminate the intersection of RNA and chromatin with newfound precision genome wide.',\n",
            "        0],\n",
            "       [1517, '56af7b820a360a5e45000014', 18, 0.25, 0.02325, 0.0, 0.0,\n",
            "        0.07661,\n",
            "        'Long noncoding RNAs (lncRNAs) are key regulators of chromatin state, yet the nature and sites of RNA-chromatin interaction are mostly unknown.',\n",
            "        0],\n",
            "       [1517, '56af7b820a360a5e45000014', 14, 0.12346, 0.02531, 0.0, 0.0,\n",
            "        0.03964,\n",
            "        'HOTAIR occupancy occurs independently of EZH2, suggesting the order of RNA guidance of Polycomb occupancy.',\n",
            "        0],\n",
            "       [1517, '56af7b820a360a5e45000014', 5, 0.12346, 0.02531, 0.0, 0.0,\n",
            "        0.03964,\n",
            "        'HOTAIR occupancy occurs independently of EZH2, suggesting the order of RNA guidance of Polycomb occupancy.',\n",
            "        0],\n",
            "       [1517, '56af7b820a360a5e45000014', 4, 0.13637, 0.0, 0.0, 0.0,\n",
            "        0.032260000000000004,\n",
            "        'HOTAIR lncRNA preferentially occupies a GA-rich DNA motif to nucleate broad domains of Polycomb occupancy and histone H3 lysine 27 trimethylation.',\n",
            "        0],\n",
            "       [1517, '56af7b820a360a5e45000014', 3, 0.05263, 0.0, 0.0, 0.0,\n",
            "        0.01414,\n",
            "        'Human telomerase RNA TERC occupies telomeres and Wnt pathway genes.',\n",
            "        0],\n",
            "       [1517, '56af7b820a360a5e45000014', 2, 0.09303, 0.0, 0.0, 0.0,\n",
            "        0.01239,\n",
            "        \"Drosophila roX2 RNA occupies male X-linked gene bodies with increasing tendency toward the 3' end, peaking at CES sites.\",\n",
            "        0]], dtype=object), array([[499, '532ad4b4d6d3ac6a34000012', 5, 0.2353, 0.08163, 0.0, 0.0,\n",
            "        0.09489,\n",
            "        'Computational analyses were used to position the epitope in the context of the virion-associated envelope glycoprotein complex, to determine the variability of the surrounding surface, and to calculate the surface accessibility of possible glycan- and polypeptide-epitope components.',\n",
            "        1],\n",
            "       [499, '532ad4b4d6d3ac6a34000012', 7, 0.18604, 0.04878, 0.0, 0.0,\n",
            "        0.06195,\n",
            "        ' The V3 region of the isolates used in the neutralization assay was amplified by PCR, directly sequenced, and analyzed to reveal variability between the consensus HIV-1 sequences and the isolates.',\n",
            "        1],\n",
            "       [499, '532ad4b4d6d3ac6a34000012', 2, 0.17392, 0.04545, 0.0, 0.0,\n",
            "        0.04917,\n",
            "        'We investigated the possible link between enzyme secretion and variability in the linker sequence segment using site-directed mutagenesis and linker domain swapping to construct mutated and chimeric forms of the IgA1 protease from',\n",
            "        1],\n",
            "       [499, '532ad4b4d6d3ac6a34000012', 3, 0.14286, 0.0, 0.0, 0.0,\n",
            "        0.04606,\n",
            "        'We have performed low to high resolution molecular typing to assess the genetic variability of major histocompatibility complex loci (HLA-A, -B, -Cw, -DRB1, and -DQA1) in a large population of European American patients with IIM (n = 571) representing the major myositis autoantibody groups',\n",
            "        1],\n",
            "       [499, '532ad4b4d6d3ac6a34000012', 4, 0.14815, 0.03846, 0.0, 0.0,\n",
            "        0.03425,\n",
            "        'In this study, we analyzed the value of IHC versus that of microsatellite instability (MSI) testing in predicting mutation status of the MLH1, MSH2, and MSH6 genes in colorectal carcinomas and adenomas, and explored the frequency and significance of immunohistochemical staining variability',\n",
            "        1],\n",
            "       [499, '532ad4b4d6d3ac6a34000012', 6, 0.07408, 0.03846, 0.0, 0.0,\n",
            "        0.0274,\n",
            "        'ese variations in structure of an expression site for a major, immunoprotective outer membrane protein have important implications for vaccine development and for obtaining an improved understanding of the mechanisms of persistence of ehrlichial infections in humans, domestic animals, and reservoir hosts.',\n",
            "        0],\n",
            "       [499, '532ad4b4d6d3ac6a34000012', 1, 0.09524, 0.0, 0.0, 0.0,\n",
            "        0.01819,\n",
            "        'This study, for the first time, describes an in-depth analysis of genetic variation in Vpr using information from global HIV-1 isolates involving a total of 976 Vpr sequences',\n",
            "        0],\n",
            "       [499, '532ad4b4d6d3ac6a34000012', 0, 0.05405, 0.0, 0.0, 0.0, 0.0,\n",
            "        'Structural and immunochemical data suggest, however, that V3 contains conserved elements which explain its role in binding to virus co-receptors despite its sequence variability.',\n",
            "        0]], dtype=object), array([[193, '56f802ea09dd18d46b000017', 4, 0.0, 0.0, 0.0, 0.0, 0.0,\n",
            "        'the conformational requirement for the dimer-to-tetramer transition during the maturation of AMPA-Rs.',\n",
            "        1],\n",
            "       [193, '56f802ea09dd18d46b000017', 3, 0.0, 0.0, 0.0, 0.0, 0.0,\n",
            "        'We conclude that the human Orai1 and Orai3 channels undergo a dimer-to-tetramer transition to form a Ca(2+)-selective pore during store-operated activation and that Orai3 forms a dimeric nonselective cation pore upon activation by 2-APB.',\n",
            "        1],\n",
            "       [193, '56f802ea09dd18d46b000017', 2, 0.0, 0.0, 0.0, 0.0, 0.0,\n",
            "        'AMPARs that is required for the critical dimer-to-tetramer transition.',\n",
            "        1],\n",
            "       [193, '56f802ea09dd18d46b000017', 1, 0.0, 0.0, 0.0, 0.0, 0.0,\n",
            "        'while SHMT2 undergoes a dimer-to-tetramer transition upon PLP binding.',\n",
            "        1],\n",
            "       [193, '56f802ea09dd18d46b000017', 0, 0.12500999999999998, 0.0,\n",
            "        0.0, 0.0, 0.0,\n",
            "        ' the ability of GAC to undergo the dimer-to-tetramer transition necessary for enzyme activation.',\n",
            "        1]], dtype=object)]\n"
          ],
          "name": "stdout"
        }
      ]
    },
    {
      "cell_type": "code",
      "metadata": {
        "colab": {
          "base_uri": "https://localhost:8080/"
        },
        "id": "c6_hHEVzRV0W",
        "outputId": "cf4d9957-cdd3-41de-d53b-415034eab2b3"
      },
      "source": [
        "# print(train_df.head())\n",
        "# print(test_df.head())\n",
        "\n",
        "print(type(train_df))\n",
        "print(type(test_df))\n",
        "print(train_df.columns.values)"
      ],
      "execution_count": 9,
      "outputs": [
        {
          "output_type": "stream",
          "text": [
            "<class 'pandas.core.frame.DataFrame'>\n",
            "<class 'pandas.core.frame.DataFrame'>\n",
            "['qid' 'pubmedid' 'sentid' 'N1' 'N2' 'L' 'S4' 'SU4' 'sentence text'\n",
            " 'SU4_labels']\n"
          ],
          "name": "stdout"
        }
      ]
    },
    {
      "cell_type": "code",
      "metadata": {
        "colab": {
          "base_uri": "https://localhost:8080/"
        },
        "id": "bO879zfXiB3P",
        "outputId": "ef024d2e-f6dc-405c-9ff4-fef63cc299d7"
      },
      "source": [
        "# install\n",
        "!pip install pytorch-pretrained-bert pytorch-nlp\n",
        "\n",
        "# BERT imports\n",
        "import torch\n",
        "\n",
        "from torch.utils.data import TensorDataset, DataLoader, RandomSampler, SequentialSampler\n",
        "from keras.preprocessing.sequence import pad_sequences\n",
        "from sklearn.model_selection import train_test_split\n",
        "from pytorch_pretrained_bert import BertTokenizer, BertConfig\n",
        "from pytorch_pretrained_bert import BertAdam, BertForSequenceClassification\n",
        "from tqdm import tqdm, trange\n",
        "\n",
        "import pandas as pd\n",
        "import io\n",
        "import numpy as np\n",
        "import matplotlib.pyplot as plt\n",
        "% matplotlib inline"
      ],
      "execution_count": 10,
      "outputs": [
        {
          "output_type": "stream",
          "text": [
            "Requirement already satisfied: pytorch-pretrained-bert in /usr/local/lib/python3.7/dist-packages (0.6.2)\n",
            "Requirement already satisfied: pytorch-nlp in /usr/local/lib/python3.7/dist-packages (0.5.0)\n",
            "Requirement already satisfied: torch>=0.4.1 in /usr/local/lib/python3.7/dist-packages (from pytorch-pretrained-bert) (1.8.1+cu101)\n",
            "Requirement already satisfied: requests in /usr/local/lib/python3.7/dist-packages (from pytorch-pretrained-bert) (2.23.0)\n",
            "Requirement already satisfied: regex in /usr/local/lib/python3.7/dist-packages (from pytorch-pretrained-bert) (2019.12.20)\n",
            "Requirement already satisfied: tqdm in /usr/local/lib/python3.7/dist-packages (from pytorch-pretrained-bert) (4.41.1)\n",
            "Requirement already satisfied: numpy in /usr/local/lib/python3.7/dist-packages (from pytorch-pretrained-bert) (1.19.5)\n",
            "Requirement already satisfied: boto3 in /usr/local/lib/python3.7/dist-packages (from pytorch-pretrained-bert) (1.17.58)\n",
            "Requirement already satisfied: typing-extensions in /usr/local/lib/python3.7/dist-packages (from torch>=0.4.1->pytorch-pretrained-bert) (3.7.4.3)\n",
            "Requirement already satisfied: certifi>=2017.4.17 in /usr/local/lib/python3.7/dist-packages (from requests->pytorch-pretrained-bert) (2020.12.5)\n",
            "Requirement already satisfied: urllib3!=1.25.0,!=1.25.1,<1.26,>=1.21.1 in /usr/local/lib/python3.7/dist-packages (from requests->pytorch-pretrained-bert) (1.24.3)\n",
            "Requirement already satisfied: idna<3,>=2.5 in /usr/local/lib/python3.7/dist-packages (from requests->pytorch-pretrained-bert) (2.10)\n",
            "Requirement already satisfied: chardet<4,>=3.0.2 in /usr/local/lib/python3.7/dist-packages (from requests->pytorch-pretrained-bert) (3.0.4)\n",
            "Requirement already satisfied: botocore<1.21.0,>=1.20.58 in /usr/local/lib/python3.7/dist-packages (from boto3->pytorch-pretrained-bert) (1.20.58)\n",
            "Requirement already satisfied: s3transfer<0.5.0,>=0.4.0 in /usr/local/lib/python3.7/dist-packages (from boto3->pytorch-pretrained-bert) (0.4.2)\n",
            "Requirement already satisfied: jmespath<1.0.0,>=0.7.1 in /usr/local/lib/python3.7/dist-packages (from boto3->pytorch-pretrained-bert) (0.10.0)\n",
            "Requirement already satisfied: python-dateutil<3.0.0,>=2.1 in /usr/local/lib/python3.7/dist-packages (from botocore<1.21.0,>=1.20.58->boto3->pytorch-pretrained-bert) (2.8.1)\n",
            "Requirement already satisfied: six>=1.5 in /usr/local/lib/python3.7/dist-packages (from python-dateutil<3.0.0,>=2.1->botocore<1.21.0,>=1.20.58->boto3->pytorch-pretrained-bert) (1.15.0)\n"
          ],
          "name": "stdout"
        }
      ]
    },
    {
      "cell_type": "code",
      "metadata": {
        "id": "-ZmKLBPwmzIg"
      },
      "source": [
        "tokenizer = BertTokenizer.from_pretrained('bert-base-uncased', do_lower_case=True)"
      ],
      "execution_count": 11,
      "outputs": []
    },
    {
      "cell_type": "code",
      "metadata": {
        "id": "QgOIOnmlm46q"
      },
      "source": [
        "def data_grouplists(data):\n",
        "  data_list = data.groupby('qid', as_index=False)['SU4_labels','sentence text'].agg(list)\n",
        "  return data_list"
      ],
      "execution_count": 12,
      "outputs": []
    },
    {
      "cell_type": "code",
      "metadata": {
        "colab": {
          "base_uri": "https://localhost:8080/"
        },
        "id": "rQxqZJ3v1aIX",
        "outputId": "8217d97b-89f9-4d8c-86b4-c08881822f48"
      },
      "source": [
        "train_list = data_grouplists(train_df)\n",
        "test_list = data_grouplists(test_df)"
      ],
      "execution_count": 13,
      "outputs": [
        {
          "output_type": "stream",
          "text": [
            "/usr/local/lib/python3.7/dist-packages/ipykernel_launcher.py:2: FutureWarning: Indexing with multiple keys (implicitly converted to a tuple of keys) will be deprecated, use a list instead.\n",
            "  \n"
          ],
          "name": "stderr"
        }
      ]
    },
    {
      "cell_type": "code",
      "metadata": {
        "id": "CWQMp4ckqlP1"
      },
      "source": [
        "def add_specialtokens(data_list):\n",
        "  specialtok_sentences = []\n",
        "\n",
        "  for sentence in data_list['sentence text']:\n",
        "    each_specialtoken = []\n",
        "    for each in sentence:\n",
        "      each_specialtoken.append([\"[CLS] \" + each + \" [SEP]\" ])\n",
        "    specialtok_sentences.append(each_specialtoken)\n",
        "  return specialtok_sentences"
      ],
      "execution_count": 15,
      "outputs": []
    },
    {
      "cell_type": "code",
      "metadata": {
        "id": "J8DNwLWL2pNO"
      },
      "source": [
        "train_specialtok = add_specialtokens(train_list)\n",
        "test_specialtok = add_specialtokens(test_list)"
      ],
      "execution_count": 16,
      "outputs": []
    },
    {
      "cell_type": "code",
      "metadata": {
        "colab": {
          "base_uri": "https://localhost:8080/"
        },
        "id": "xJ8212nk20WG",
        "outputId": "a28e7137-f1b0-4f92-b68c-b0266d039c00"
      },
      "source": [
        "print(train_specialtok[0])\n",
        "print(train_specialtok[1])"
      ],
      "execution_count": 17,
      "outputs": [
        {
          "output_type": "stream",
          "text": [
            "[['[CLS] the 7 known EGFR ligands (EGF, betacellulin, epiregulin, heparin-binding EGF, transforming growth factor-α [TGF-α], amphiregulin, and epigen) [SEP]'], ['[CLS]  EGFR ligands epidermal growth factor (EGF), amphiregulin (AREG) and transforming growth factor alpha (TGFα) [SEP]'], ['[CLS] mammalian EGFR ligands including EGF, TGF-α (TGFα), amphiregulin (AREG), heparin-binding EGF-like growth factor (HB-EGF), betacellulin, epiregulin, and epigen. [SEP]'], ['[CLS] the epidermal growth factor receptor (EGFR) ligands, such as epidermal growth factor (EGF) and amphiregulin (AREG) [SEP]'], ['[CLS] Among EGFR ligands, heparin-binding epidermal growth factor (HB-EGF) [SEP]'], ['[CLS] Among EGFR ligands, heparin-binding EGF-like growth factor, TGF-α and Betacellulin (BTC) are produced in the tumor microenvironment of FDC-S at RNA level. [SEP]'], ['[CLS] oluble amphiregulin (AR), transforming growth factor alpha (TGFα), neuregulin 2 beta, and epigen stimulate greater EGFR coupling to cell proliferation and DNA synthesis than do EGF, betacellulin, heparin-binding EGF-like growth factor, and epiregulin [SEP]'], ['[CLS] Plasma amphiregulin (AR), epidermal growth factor (EGF), transforming growth factor-α, and heparin binding-EGF were assessed by ELISA in 45 chemorefractory mCRC patients [SEP]'], ['[CLS] Here, we demonstrate that histamine releases 2 EGFR ligands, amphiregulin and heparin-binding epidermal growth factor-like growth factor (HB-EGF), from airway epithelial cells. [SEP]'], ['[CLS]  Of the six known EGFR ligands, transforming growth factor alpha (TGFα) was expressed more highly in triple-negative breast tumors than in tumors of other subtypes. [SEP]'], ['[CLS] EGFR ligands based on the two affinity classes: EGF>HB-EGF>TGF-α>BTC>EPR>EPG>AR [SEP]'], ['[CLS] Epidermal growth factor (EGF) family peptides are ligands for the EGF receptor (EGFR). [SEP]'], ['[CLS] four EGFR ligands (AR, HB-EGF, TGF-α, and EREG) [SEP]'], ['[CLS] In this article, however, we demonstrate that PEPD directly binds to and activates epidermal growth factor receptor (EGFR), [SEP]'], ['[CLS]  EGFR and its ligand EGF [SEP]'], ['[CLS] . [SEP]']]\n",
            "[['[CLS] Papilin is an extracellular matrix glycoprotein [SEP]'], ['[CLS] apilins are homologous, secreted extracellular matrix proteins which share a common order of protein domains. [SEP]'], ['[CLS] Both MIG-6 isoforms have a predicted N-terminal papilin cassette [SEP]'], ['[CLS] The TSR superfamily is a diverse family of extracellular matrix and transmembrane proteins, many of which have functions related to regulating matrix organization, cell-cell interactions and cell guidance. [SEP]'], ['[CLS]  Collagen IV, laminin, glutactin, papilin, and other extracellular matrix proteins were made primarily by hemocytes and were secreted into the medium. [SEP]'], ['[CLS] A sulfated glycoprotein was isolated from the culture media of Drosophila Kc cells and named papilin. [SEP]'], ['[CLS] Using expression analysis, we identify three genes that are transcriptionally regulated by HLH-2: the protocadherin cdh-3, and two genes encoding secreted extracellular matrix proteins, mig-6/papilin and him-4/hemicentin. [SEP]'], ['[CLS] F-spondin, UNC-5, ADAMTS, papilin, and TRAP) where specific functions are assigned to the TSR domains. [SEP]'], ['[CLS] We found that mig-6 encodes long (MIG-6L) and short (MIG-6S) isoforms of the extracellular matrix protein papilin, each required for distinct aspects of DTC migration. [SEP]'], ['[CLS] Papilins are extracellular matrix proteins [SEP]'], ['[CLS] This review samples some of the contemporary literature regarding TSR superfamily members (e.g. [SEP]']]\n"
          ],
          "name": "stdout"
        }
      ]
    },
    {
      "cell_type": "code",
      "metadata": {
        "id": "_nsQ8itK2-IW"
      },
      "source": [
        "def tokenize_sentences(specialtok_sentences):\n",
        "  tokenized_sentences = []\n",
        "\n",
        "  for sentence in specialtok_sentences:\n",
        "    eachsent_tokenized = []\n",
        "    for each in sentence:\n",
        "      eachsent_tokenized.append(tokenizer.tokenize(each[0]))\n",
        "    tokenized_sentences.append(eachsent_tokenized)\n",
        "  return tokenized_sentences"
      ],
      "execution_count": 18,
      "outputs": []
    },
    {
      "cell_type": "code",
      "metadata": {
        "id": "lgi8wXqU1uTg"
      },
      "source": [
        "train_tokenized = tokenize_sentences(train_specialtok)\n",
        "test_tokenized = tokenize_sentences(test_specialtok)\n"
      ],
      "execution_count": 19,
      "outputs": []
    },
    {
      "cell_type": "code",
      "metadata": {
        "id": "hW6p7qIU4Thv"
      },
      "source": [
        "def data_tokenizedsent(tokenized_sentences, data_list):\n",
        "  data_list['tokenized_sentences'] = tokenized_sentences\n",
        "  return data_list"
      ],
      "execution_count": 20,
      "outputs": []
    },
    {
      "cell_type": "code",
      "metadata": {
        "colab": {
          "base_uri": "https://localhost:8080/"
        },
        "id": "rgJ0YFuS4kXP",
        "outputId": "50bf90bf-64c5-4b8d-beb1-20f3ff6277d1"
      },
      "source": [
        "print(train_tokenized[0])"
      ],
      "execution_count": 21,
      "outputs": [
        {
          "output_type": "stream",
          "text": [
            "[['[CLS]', 'the', '7', 'known', 'e', '##gf', '##r', 'ligand', '##s', '(', 'e', '##gf', ',', 'beta', '##cel', '##lu', '##lin', ',', 'ep', '##ire', '##gul', '##in', ',', 'he', '##par', '##in', '-', 'binding', 'e', '##gf', ',', 'transforming', 'growth', 'factor', '-', 'α', '[', 't', '##gf', '-', 'α', ']', ',', 'amp', '##hire', '##gul', '##in', ',', 'and', 'ep', '##igen', ')', '[SEP]'], ['[CLS]', 'e', '##gf', '##r', 'ligand', '##s', 'ep', '##ider', '##mal', 'growth', 'factor', '(', 'e', '##gf', ')', ',', 'amp', '##hire', '##gul', '##in', '(', 'are', '##g', ')', 'and', 'transforming', 'growth', 'factor', 'alpha', '(', 't', '##gf', '##α', ')', '[SEP]'], ['[CLS]', 'mammalian', 'e', '##gf', '##r', 'ligand', '##s', 'including', 'e', '##gf', ',', 't', '##gf', '-', 'α', '(', 't', '##gf', '##α', ')', ',', 'amp', '##hire', '##gul', '##in', '(', 'are', '##g', ')', ',', 'he', '##par', '##in', '-', 'binding', 'e', '##gf', '-', 'like', 'growth', 'factor', '(', 'h', '##b', '-', 'e', '##gf', ')', ',', 'beta', '##cel', '##lu', '##lin', ',', 'ep', '##ire', '##gul', '##in', ',', 'and', 'ep', '##igen', '.', '[SEP]'], ['[CLS]', 'the', 'ep', '##ider', '##mal', 'growth', 'factor', 'receptor', '(', 'e', '##gf', '##r', ')', 'ligand', '##s', ',', 'such', 'as', 'ep', '##ider', '##mal', 'growth', 'factor', '(', 'e', '##gf', ')', 'and', 'amp', '##hire', '##gul', '##in', '(', 'are', '##g', ')', '[SEP]'], ['[CLS]', 'among', 'e', '##gf', '##r', 'ligand', '##s', ',', 'he', '##par', '##in', '-', 'binding', 'ep', '##ider', '##mal', 'growth', 'factor', '(', 'h', '##b', '-', 'e', '##gf', ')', '[SEP]'], ['[CLS]', 'among', 'e', '##gf', '##r', 'ligand', '##s', ',', 'he', '##par', '##in', '-', 'binding', 'e', '##gf', '-', 'like', 'growth', 'factor', ',', 't', '##gf', '-', 'α', 'and', 'beta', '##cel', '##lu', '##lin', '(', 'bt', '##c', ')', 'are', 'produced', 'in', 'the', 'tumor', 'micro', '##en', '##vir', '##on', '##ment', 'of', 'f', '##dc', '-', 's', 'at', 'rna', 'level', '.', '[SEP]'], ['[CLS]', 'ol', '##ub', '##le', 'amp', '##hire', '##gul', '##in', '(', 'ar', ')', ',', 'transforming', 'growth', 'factor', 'alpha', '(', 't', '##gf', '##α', ')', ',', 'ne', '##ure', '##gul', '##in', '2', 'beta', ',', 'and', 'ep', '##igen', 'stimulate', 'greater', 'e', '##gf', '##r', 'coupling', 'to', 'cell', 'proliferation', 'and', 'dna', 'synthesis', 'than', 'do', 'e', '##gf', ',', 'beta', '##cel', '##lu', '##lin', ',', 'he', '##par', '##in', '-', 'binding', 'e', '##gf', '-', 'like', 'growth', 'factor', ',', 'and', 'ep', '##ire', '##gul', '##in', '[SEP]'], ['[CLS]', 'plasma', 'amp', '##hire', '##gul', '##in', '(', 'ar', ')', ',', 'ep', '##ider', '##mal', 'growth', 'factor', '(', 'e', '##gf', ')', ',', 'transforming', 'growth', 'factor', '-', 'α', ',', 'and', 'he', '##par', '##in', 'binding', '-', 'e', '##gf', 'were', 'assessed', 'by', 'elisa', 'in', '45', 'che', '##more', '##fra', '##ctor', '##y', 'mc', '##rc', 'patients', '[SEP]'], ['[CLS]', 'here', ',', 'we', 'demonstrate', 'that', 'his', '##tam', '##ine', 'releases', '2', 'e', '##gf', '##r', 'ligand', '##s', ',', 'amp', '##hire', '##gul', '##in', 'and', 'he', '##par', '##in', '-', 'binding', 'ep', '##ider', '##mal', 'growth', 'factor', '-', 'like', 'growth', 'factor', '(', 'h', '##b', '-', 'e', '##gf', ')', ',', 'from', 'air', '##way', 'ep', '##ith', '##elial', 'cells', '.', '[SEP]'], ['[CLS]', 'of', 'the', 'six', 'known', 'e', '##gf', '##r', 'ligand', '##s', ',', 'transforming', 'growth', 'factor', 'alpha', '(', 't', '##gf', '##α', ')', 'was', 'expressed', 'more', 'highly', 'in', 'triple', '-', 'negative', 'breast', 'tumors', 'than', 'in', 'tumors', 'of', 'other', 'sub', '##type', '##s', '.', '[SEP]'], ['[CLS]', 'e', '##gf', '##r', 'ligand', '##s', 'based', 'on', 'the', 'two', 'affinity', 'classes', ':', 'e', '##gf', '>', 'h', '##b', '-', 'e', '##gf', '>', 't', '##gf', '-', 'α', '>', 'bt', '##c', '>', 'ep', '##r', '>', 'ep', '##g', '>', 'ar', '[SEP]'], ['[CLS]', 'ep', '##ider', '##mal', 'growth', 'factor', '(', 'e', '##gf', ')', 'family', 'peptide', '##s', 'are', 'ligand', '##s', 'for', 'the', 'e', '##gf', 'receptor', '(', 'e', '##gf', '##r', ')', '.', '[SEP]'], ['[CLS]', 'four', 'e', '##gf', '##r', 'ligand', '##s', '(', 'ar', ',', 'h', '##b', '-', 'e', '##gf', ',', 't', '##gf', '-', 'α', ',', 'and', 'er', '##eg', ')', '[SEP]'], ['[CLS]', 'in', 'this', 'article', ',', 'however', ',', 'we', 'demonstrate', 'that', 'pep', '##d', 'directly', 'binds', 'to', 'and', 'activate', '##s', 'ep', '##ider', '##mal', 'growth', 'factor', 'receptor', '(', 'e', '##gf', '##r', ')', ',', '[SEP]'], ['[CLS]', 'e', '##gf', '##r', 'and', 'its', 'ligand', 'e', '##gf', '[SEP]'], ['[CLS]', '.', '[SEP]']]\n"
          ],
          "name": "stdout"
        }
      ]
    },
    {
      "cell_type": "code",
      "metadata": {
        "id": "TZMhWwmZ4oae"
      },
      "source": [
        "data_train_tokenized = data_tokenizedsent(train_tokenized, train_list)\n",
        "data_test_tokenized = data_tokenizedsent(test_tokenized, test_list)"
      ],
      "execution_count": 22,
      "outputs": []
    },
    {
      "cell_type": "code",
      "metadata": {
        "colab": {
          "base_uri": "https://localhost:8080/"
        },
        "id": "NiHS9PKB43h4",
        "outputId": "797e6ff2-0197-4fb3-c506-b77dfa3623de"
      },
      "source": [
        "print(len(train_tokenized))\n",
        "print(data_train_tokenized.columns.values)"
      ],
      "execution_count": 23,
      "outputs": [
        {
          "output_type": "stream",
          "text": [
            "2594\n",
            "['qid' 'SU4_labels' 'sentence text' 'tokenized_sentences']\n"
          ],
          "name": "stdout"
        }
      ]
    },
    {
      "cell_type": "code",
      "metadata": {
        "colab": {
          "base_uri": "https://localhost:8080/"
        },
        "id": "5WHXKf6E5ZQ3",
        "outputId": "1e096fc1-3c1d-401b-8871-00fb45185629"
      },
      "source": [
        "print(len(train_tokenized[0]))\n",
        "print(len(train_tokenized[1]))\n",
        "print(len(train_tokenized[2]))"
      ],
      "execution_count": 24,
      "outputs": [
        {
          "output_type": "stream",
          "text": [
            "16\n",
            "11\n",
            "7\n"
          ],
          "name": "stdout"
        }
      ]
    },
    {
      "cell_type": "code",
      "metadata": {
        "id": "kHb0_VKg53Mm"
      },
      "source": [
        "def token2ids(tokenized_sentences):\n",
        "  # Set the maximum sequence length. \n",
        "  MAX_LEN = 512\n",
        "  token_ids = []\n",
        "\n",
        "  for tokenized_sentence in tokenized_sentences:\n",
        "    tokens_to_ids = [tokenizer.convert_tokens_to_ids(each) for each in tokenized_sentence]\n",
        "    tokens_to_ids = pad_sequences(tokens_to_ids, maxlen=MAX_LEN, dtype=\"long\", truncating=\"post\", padding=\"post\")\n",
        "    token_ids.append(tokens_to_ids)\n",
        "  return token_ids"
      ],
      "execution_count": 25,
      "outputs": []
    },
    {
      "cell_type": "code",
      "metadata": {
        "colab": {
          "base_uri": "https://localhost:8080/"
        },
        "id": "DGZvHIjh6qHL",
        "outputId": "b793ca2d-16e4-45c5-b70d-7cabd698b45d"
      },
      "source": [
        "train_tokens2ids = token2ids(train_tokenized)\n",
        "test_tokens2ids = token2ids(test_tokenized)"
      ],
      "execution_count": 26,
      "outputs": [
        {
          "output_type": "stream",
          "text": [
            "Token indices sequence length is longer than the specified maximum  sequence length for this BERT model (529 > 512). Running this sequence through BERT will result in indexing errors\n"
          ],
          "name": "stderr"
        }
      ]
    },
    {
      "cell_type": "code",
      "metadata": {
        "colab": {
          "base_uri": "https://localhost:8080/"
        },
        "id": "SiArL92V7IO3",
        "outputId": "dc008ddd-02df-4dea-cb95-0aa526ea4f7a"
      },
      "source": [
        "print(len(train_tokens2ids))\n",
        "print(len(train_tokens2ids[0]))\n",
        "print(len(train_tokens2ids[1]))"
      ],
      "execution_count": 29,
      "outputs": [
        {
          "output_type": "stream",
          "text": [
            "2594\n",
            "16\n",
            "11\n"
          ],
          "name": "stdout"
        }
      ]
    },
    {
      "cell_type": "code",
      "metadata": {
        "id": "xbQNwNja5q2O"
      },
      "source": [
        "def create_masks(token_ids):\n",
        "  attention_masks = []\n",
        "\n",
        "  for tid in token_ids:\n",
        "    eachtid_mask = []\n",
        "    for each in tid:\n",
        "      mask = [float(i>0) for i in each] #for each token \n",
        "      eachtid_mask.append(mask)#for each sentence\n",
        "    attention_masks.append(eachtid_mask)\n",
        "  return attention_masks"
      ],
      "execution_count": 30,
      "outputs": []
    },
    {
      "cell_type": "code",
      "metadata": {
        "id": "Ez0g4unJ9j1T"
      },
      "source": [
        "train_masks = create_masks(train_tokens2ids)\n",
        "test_masks = create_masks(test_tokens2ids)"
      ],
      "execution_count": 31,
      "outputs": []
    },
    {
      "cell_type": "code",
      "metadata": {
        "colab": {
          "base_uri": "https://localhost:8080/"
        },
        "id": "KOJdR6bt8A3z",
        "outputId": "3f6a5ac1-8399-462e-f62c-2e3a20131e6d"
      },
      "source": [
        "print(len(train_masks))\n",
        "print(len(train_masks[0]))\n",
        "print(len(train_masks[0][0]))\n",
        "print(len(train_masks[1]))\n",
        "print(len(train_masks[1][1]))\n"
      ],
      "execution_count": 32,
      "outputs": [
        {
          "output_type": "stream",
          "text": [
            "2594\n",
            "16\n",
            "512\n",
            "11\n",
            "512\n"
          ],
          "name": "stdout"
        }
      ]
    },
    {
      "cell_type": "code",
      "metadata": {
        "id": "VLdNC6h5MB14"
      },
      "source": [
        ""
      ],
      "execution_count": 22,
      "outputs": []
    }
  ]
}