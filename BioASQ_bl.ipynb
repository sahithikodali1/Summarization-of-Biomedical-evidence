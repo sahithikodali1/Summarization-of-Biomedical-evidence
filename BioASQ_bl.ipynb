{
  "nbformat": 4,
  "nbformat_minor": 0,
  "metadata": {
    "colab": {
      "name": "BioASQ_bl.ipynb",
      "provenance": [],
      "mount_file_id": "1KVJ4v2KfrVKH5xzoyNE7gYKfHhfGrY4q",
      "authorship_tag": "ABX9TyNxQr41rELY7tM6cYtrA2rg",
      "include_colab_link": true
    },
    "kernelspec": {
      "name": "python3",
      "display_name": "Python 3"
    },
    "language_info": {
      "name": "python"
    },
    "accelerator": "GPU"
  },
  "cells": [
    {
      "cell_type": "markdown",
      "metadata": {
        "id": "view-in-github",
        "colab_type": "text"
      },
      "source": [
        "<a href=\"https://colab.research.google.com/github/sahithikodali1/Summarization-of-Biomedical-evidence/blob/Data_processing/BioASQ_bl.ipynb\" target=\"_parent\"><img src=\"https://colab.research.google.com/assets/colab-badge.svg\" alt=\"Open In Colab\"/></a>"
      ]
    },
    {
      "cell_type": "code",
      "metadata": {
        "colab": {
          "base_uri": "https://localhost:8080/"
        },
        "id": "FuwbZaEo7NTQ",
        "outputId": "46c1a7a1-6877-4185-caee-8bf14e512306"
      },
      "source": [
        "import numpy as np\n",
        "import pandas as pd\n",
        "import os\n",
        "\n",
        "print(os.listdir(\"/content/drive/MyDrive/Thesis_B\"))"
      ],
      "execution_count": 1,
      "outputs": [
        {
          "output_type": "stream",
          "text": [
            "['rouge_8b_mod.csv']\n"
          ],
          "name": "stdout"
        }
      ]
    },
    {
      "cell_type": "code",
      "metadata": {
        "id": "kzsV20EL7i-V"
      },
      "source": [
        "DATA_DIR = \"/content/drive/MyDrive/Thesis_B\"\n",
        "\n",
        "file = pd.read_csv(os.path.join(DATA_DIR,'rouge_8b_mod.csv'))\n",
        "f_values = file.values\n",
        "# print(f_values[:2])\n",
        "# print(col_names[:10])\n",
        "q_id_split = np.split(f_values, np.where(np.diff(f_values[:,0]))[0]+1)\n",
        "print(q_id_split[:2])"
      ],
      "execution_count": null,
      "outputs": []
    },
    {
      "cell_type": "code",
      "metadata": {
        "colab": {
          "base_uri": "https://localhost:8080/"
        },
        "id": "1b6fzY9872MG",
        "outputId": "3d39cd76-9069-4774-b4e1-b9c694a007f7"
      },
      "source": [
        "#Predict train and test sizes\n",
        "\n",
        "train_data_size = round(len(q_id_split)*0.8)\n",
        "test_data_size = round(len(q_id_split) - train_data_size)\n",
        "print(train_data_size)\n",
        "print(test_data_size)"
      ],
      "execution_count": 3,
      "outputs": [
        {
          "output_type": "stream",
          "text": [
            "2594\n",
            "648\n"
          ],
          "name": "stdout"
        }
      ]
    },
    {
      "cell_type": "code",
      "metadata": {
        "colab": {
          "base_uri": "https://localhost:8080/"
        },
        "id": "qjZIcuQ_75wb",
        "outputId": "b1c470de-b70c-48f5-a48d-484b48aa2b94"
      },
      "source": [
        "#Shuffle qid randomly\n",
        "\n",
        "import random\n",
        "random.seed(3007)\n",
        "random.shuffle(q_id_split)\n",
        "print(type(q_id_split[:1]))"
      ],
      "execution_count": 4,
      "outputs": [
        {
          "output_type": "stream",
          "text": [
            "<class 'list'>\n"
          ],
          "name": "stdout"
        }
      ]
    },
    {
      "cell_type": "code",
      "metadata": {
        "colab": {
          "base_uri": "https://localhost:8080/"
        },
        "id": "pETSWEIS7-rM",
        "outputId": "c6a3ef9e-84ca-49dd-d3b1-9e70dc425531"
      },
      "source": [
        "#Split train data into train and validation\n",
        "\n",
        "train_data_beforeval = q_id_split[:2594]\n",
        "f_values_train_beforeval = np.concatenate(train_data_beforeval, axis=0)\n",
        "# print((f_values_train_beforeval))\n",
        "\n",
        "q_id_split_train = np.split(f_values_train_beforeval, np.where(np.diff(f_values_train_beforeval[:,0]))[0]+1)\n",
        "val_data_size = round(len(q_id_split_train)*0.2)\n",
        "train_data_size = round(len(q_id_split_train) - val_data_size)\n",
        "print(train_data_size)\n",
        "print(val_data_size)"
      ],
      "execution_count": 5,
      "outputs": [
        {
          "output_type": "stream",
          "text": [
            "2075\n",
            "519\n"
          ],
          "name": "stdout"
        }
      ]
    },
    {
      "cell_type": "code",
      "metadata": {
        "id": "Km7GEz8f8e77"
      },
      "source": [
        "train_data = q_id_split_train[:2075]\n",
        "val_data = q_id_split_train[2075:]\n",
        "test_data = q_id_split[2594:]\n",
        "f_values_train = np.concatenate(train_data, axis=0)\n",
        "f_values_val = np.concatenate(val_data, axis=0)\n",
        "f_values_test = np.concatenate(test_data, axis=0)"
      ],
      "execution_count": 6,
      "outputs": []
    },
    {
      "cell_type": "code",
      "metadata": {
        "colab": {
          "base_uri": "https://localhost:8080/"
        },
        "id": "GgAE7uSU8oxk",
        "outputId": "f2cd03cc-c142-484d-f810-a8bbb2b0e080"
      },
      "source": [
        "col_names = file.columns\n",
        "print(col_names)"
      ],
      "execution_count": 7,
      "outputs": [
        {
          "output_type": "stream",
          "text": [
            "Index(['qid', 'pubmedid', 'sentid', 'N1', 'N2', 'L', 'S4', 'SU4',\n",
            "       'sentence text', 'SU4_labels'],\n",
            "      dtype='object')\n"
          ],
          "name": "stdout"
        }
      ]
    },
    {
      "cell_type": "code",
      "metadata": {
        "id": "amdgJxFt9B2e"
      },
      "source": [
        "#Convert data into dataframes\n",
        "\n",
        "train_df = pd.DataFrame(f_values_train, columns = col_names)\n",
        "val_df = pd.DataFrame(f_values_val, columns = col_names)\n",
        "test_df = pd.DataFrame(f_values_test, columns = col_names)"
      ],
      "execution_count": 8,
      "outputs": []
    },
    {
      "cell_type": "code",
      "metadata": {
        "colab": {
          "base_uri": "https://localhost:8080/"
        },
        "id": "cCap4_UV9S6T",
        "outputId": "971f6f2a-753b-4f5e-e088-46664046489b"
      },
      "source": [
        "print(len(train_data))\n",
        "print(len(val_data))\n",
        "print(len(test_data))\n",
        "\n",
        "print(len(train_df))\n",
        "print(len(val_df))\n",
        "print(len(test_df))\n",
        "print(train_df.columns.values)"
      ],
      "execution_count": 9,
      "outputs": [
        {
          "output_type": "stream",
          "text": [
            "2075\n",
            "519\n",
            "648\n",
            "33435\n",
            "8148\n",
            "10161\n",
            "['qid' 'pubmedid' 'sentid' 'N1' 'N2' 'L' 'S4' 'SU4' 'sentence text'\n",
            " 'SU4_labels']\n"
          ],
          "name": "stdout"
        }
      ]
    },
    {
      "cell_type": "code",
      "metadata": {
        "id": "ILfF69Mh9729"
      },
      "source": [
        "# install\n",
        "!pip install pytorch-pretrained-bert pytorch-nlp\n",
        "\n",
        "# BERT imports\n",
        "import torch\n",
        "\n",
        "from torch.utils.data import TensorDataset, DataLoader, RandomSampler, SequentialSampler\n",
        "from keras.preprocessing.sequence import pad_sequences\n",
        "from sklearn.model_selection import train_test_split\n",
        "from pytorch_pretrained_bert import BertTokenizer, BertConfig\n",
        "from pytorch_pretrained_bert import BertAdam, BertForSequenceClassification, BertForMaskedLM\n",
        "from tqdm import tqdm, trange\n",
        "\n",
        "import pandas as pd\n",
        "import io\n",
        "import numpy as np\n",
        "import matplotlib.pyplot as plt\n",
        "% matplotlib inline"
      ],
      "execution_count": null,
      "outputs": []
    },
    {
      "cell_type": "code",
      "metadata": {
        "colab": {
          "base_uri": "https://localhost:8080/"
        },
        "id": "icm7XxWt-Ak8",
        "outputId": "ffbfe1f3-b879-4fb7-92af-4dd913078db8"
      },
      "source": [
        "tokenizer = BertTokenizer.from_pretrained('bert-base-uncased', do_lower_case=True)"
      ],
      "execution_count": 11,
      "outputs": [
        {
          "output_type": "stream",
          "text": [
            "100%|██████████| 231508/231508 [00:00<00:00, 897317.36B/s]\n"
          ],
          "name": "stderr"
        }
      ]
    },
    {
      "cell_type": "code",
      "metadata": {
        "id": "nX2VQjkx-QMM"
      },
      "source": [
        "def data_grouplists(data):\n",
        "  data_list = data.groupby('qid', as_index=False)['SU4','SU4_labels','sentence text'].agg(list)\n",
        "  return data_list"
      ],
      "execution_count": 12,
      "outputs": []
    },
    {
      "cell_type": "code",
      "metadata": {
        "colab": {
          "base_uri": "https://localhost:8080/"
        },
        "id": "VmUSvrsl-7sG",
        "outputId": "edf145fd-5b05-4c88-e23d-de6a341d4a37"
      },
      "source": [
        "train_grouped = data_grouplists(train_df)\n",
        "val_grouped = data_grouplists(val_df)\n",
        "test_grouped = data_grouplists(test_df)"
      ],
      "execution_count": 13,
      "outputs": [
        {
          "output_type": "stream",
          "text": [
            "/usr/local/lib/python3.7/dist-packages/ipykernel_launcher.py:2: FutureWarning: Indexing with multiple keys (implicitly converted to a tuple of keys) will be deprecated, use a list instead.\n",
            "  \n"
          ],
          "name": "stderr"
        }
      ]
    },
    {
      "cell_type": "code",
      "metadata": {
        "colab": {
          "base_uri": "https://localhost:8080/"
        },
        "id": "MpelJ5TZ_HSG",
        "outputId": "33ea5d46-d6c8-4bcf-bc1f-b5679a23febf"
      },
      "source": [
        "print(type(train_grouped))\n",
        "print(len(train_grouped))\n",
        "print(train_grouped[:2])\n",
        "print(train_grouped.columns.values)"
      ],
      "execution_count": 14,
      "outputs": [
        {
          "output_type": "stream",
          "text": [
            "<class 'pandas.core.frame.DataFrame'>\n",
            "2075\n",
            "   qid  ...                                      sentence text\n",
            "0    2  ...  [Papilin is an extracellular matrix glycoprote...\n",
            "1    4  ...  [Osteoprotegerin (OPG) and receptor activator ...\n",
            "\n",
            "[2 rows x 4 columns]\n",
            "['qid' 'SU4' 'SU4_labels' 'sentence text']\n"
          ],
          "name": "stdout"
        }
      ]
    },
    {
      "cell_type": "code",
      "metadata": {
        "id": "2PjTpi9zAayQ"
      },
      "source": [
        "#Add special tokens\n",
        "\n",
        "def add_specialtokens(data_list):\n",
        "  specialtok_sentences = []\n",
        "\n",
        "  for sentence in data_list['sentence text']:\n",
        "    each_specialtoken = []\n",
        "    for each in sentence:\n",
        "      each_specialtoken.append([\"[CLS] \" + each + \" [SEP]\" ])\n",
        "    specialtok_sentences.append(each_specialtoken)\n",
        "  return specialtok_sentences"
      ],
      "execution_count": 15,
      "outputs": []
    },
    {
      "cell_type": "code",
      "metadata": {
        "id": "cDfNMbPVAmId"
      },
      "source": [
        "train_specialtok = add_specialtokens(train_grouped)\n",
        "val_specialtok = add_specialtokens(val_grouped)\n",
        "test_specialtok = add_specialtokens(test_grouped)"
      ],
      "execution_count": 16,
      "outputs": []
    },
    {
      "cell_type": "code",
      "metadata": {
        "colab": {
          "base_uri": "https://localhost:8080/"
        },
        "id": "p22vUB1nAn5u",
        "outputId": "f711885b-50ae-4774-9256-bf0ceaf4681c"
      },
      "source": [
        "print(type(train_specialtok))\n",
        "print(len(train_specialtok[0]))\n",
        "print(train_specialtok[:2])\n",
        "print(train_specialtok[0])"
      ],
      "execution_count": 17,
      "outputs": [
        {
          "output_type": "stream",
          "text": [
            "<class 'list'>\n",
            "11\n",
            "[[['[CLS] Papilin is an extracellular matrix glycoprotein [SEP]'], ['[CLS] apilins are homologous, secreted extracellular matrix proteins which share a common order of protein domains. [SEP]'], ['[CLS] Both MIG-6 isoforms have a predicted N-terminal papilin cassette [SEP]'], ['[CLS] The TSR superfamily is a diverse family of extracellular matrix and transmembrane proteins, many of which have functions related to regulating matrix organization, cell-cell interactions and cell guidance. [SEP]'], ['[CLS]  Collagen IV, laminin, glutactin, papilin, and other extracellular matrix proteins were made primarily by hemocytes and were secreted into the medium. [SEP]'], ['[CLS] A sulfated glycoprotein was isolated from the culture media of Drosophila Kc cells and named papilin. [SEP]'], ['[CLS] Using expression analysis, we identify three genes that are transcriptionally regulated by HLH-2: the protocadherin cdh-3, and two genes encoding secreted extracellular matrix proteins, mig-6/papilin and him-4/hemicentin. [SEP]'], ['[CLS] F-spondin, UNC-5, ADAMTS, papilin, and TRAP) where specific functions are assigned to the TSR domains. [SEP]'], ['[CLS] We found that mig-6 encodes long (MIG-6L) and short (MIG-6S) isoforms of the extracellular matrix protein papilin, each required for distinct aspects of DTC migration. [SEP]'], ['[CLS] Papilins are extracellular matrix proteins [SEP]'], ['[CLS] This review samples some of the contemporary literature regarding TSR superfamily members (e.g. [SEP]']], [['[CLS] Osteoprotegerin (OPG) and receptor activator of nuclear factor κB ligand (RANKL) are cytokines predominantly secreted by osteoblasts and play critical roles in the differentiation and function of osteoclasts. [SEP]'], ['[CLS] Receptor activator of nuclear factor κB ligand (RANKL) and osteoprotegerin (OPG) are cytokines predominantly secreted by osteoblasts and play a central role in differentiation and functional activation of osteoclasts [SEP]'], ['[CLS] It usually functions in bone remodeling, by inhibiting osteoclastogenesis through interaction with a receptor activator of the nuclear factor κB (RANKL). [SEP]'], ['[CLS] Osteoprotegerin (OPG) is a soluble secreted factor that acts as a decoy receptor for receptor activator of NF-κB ligand (RANKL) [SEP]'], ['[CLS] Osteoprotegerin (OPG) is an essential secreted protein in bone turnover due to its role as a decoy receptor for the Receptor Activator of Nuclear Factor-kB ligand (RANKL) in the osteoclasts, thus inhibiting their differentiation [SEP]'], ['[CLS] Osteoprotegerin (OPG) is a secreted glycoprotein and a member of the tumor necrosis factor receptor superfamily. [SEP]'], ['[CLS] OPG, on the other hand, is secreted by osteoblast as a decoy receptor for RANKL, prevents RANKL from binding to RANK and thus prevents bone resorption [SEP]'], ['[CLS] e RANKL/OPG ratio secreted by osteoblasts increased and RANK expression by osteoclasts increased, leading to increased osteoclastogenesis [SEP]'], ['[CLS] Activated human T cells express alternative mRNA transcripts encoding a secreted form of RANKL. [SEP]'], ['[CLS] Although B. abortus-activated T cells actively secreted the pro-osteoclastogenic cytokines RANKL and IL-17, osteoclastogenesis depended on IL-17, because osteoclast generation induced by Brucella-activated T cells was completely abrogated when these cells were cultured with BMMs from IL-17 receptor knockout mice. [SEP]'], ['[CLS] We identify a TNFSF11 transcript variant that extends the originally identified transcript encoding secreted RANKL. [SEP]'], ['[CLS] We isolated human fibroblasts from RA, pyrophosphate arthropathy (PPA) and osteoarthritis (OA) patients and analyzed their RANKL/OPG expression profile and the capacity of their secreted factors to induce osteoclastogenesis. [SEP]'], ['[CLS]  osteoclastogenesis and bone destruction in autoimmune arthritis. [SEP]']]]\n",
            "[['[CLS] Papilin is an extracellular matrix glycoprotein [SEP]'], ['[CLS] apilins are homologous, secreted extracellular matrix proteins which share a common order of protein domains. [SEP]'], ['[CLS] Both MIG-6 isoforms have a predicted N-terminal papilin cassette [SEP]'], ['[CLS] The TSR superfamily is a diverse family of extracellular matrix and transmembrane proteins, many of which have functions related to regulating matrix organization, cell-cell interactions and cell guidance. [SEP]'], ['[CLS]  Collagen IV, laminin, glutactin, papilin, and other extracellular matrix proteins were made primarily by hemocytes and were secreted into the medium. [SEP]'], ['[CLS] A sulfated glycoprotein was isolated from the culture media of Drosophila Kc cells and named papilin. [SEP]'], ['[CLS] Using expression analysis, we identify three genes that are transcriptionally regulated by HLH-2: the protocadherin cdh-3, and two genes encoding secreted extracellular matrix proteins, mig-6/papilin and him-4/hemicentin. [SEP]'], ['[CLS] F-spondin, UNC-5, ADAMTS, papilin, and TRAP) where specific functions are assigned to the TSR domains. [SEP]'], ['[CLS] We found that mig-6 encodes long (MIG-6L) and short (MIG-6S) isoforms of the extracellular matrix protein papilin, each required for distinct aspects of DTC migration. [SEP]'], ['[CLS] Papilins are extracellular matrix proteins [SEP]'], ['[CLS] This review samples some of the contemporary literature regarding TSR superfamily members (e.g. [SEP]']]\n"
          ],
          "name": "stdout"
        }
      ]
    },
    {
      "cell_type": "code",
      "metadata": {
        "id": "f347an28A7TO"
      },
      "source": [
        "#Tokenize sentences\n",
        "\n",
        "def tokenize_sentences(specialtok_sentences):\n",
        "  tokenized_sentences = []\n",
        "\n",
        "  for sentence in specialtok_sentences:\n",
        "    eachsent_tokenized = []\n",
        "    for each in sentence:\n",
        "      eachsent_tokenized.append(tokenizer.tokenize(each[0]))\n",
        "    tokenized_sentences.append(eachsent_tokenized)\n",
        "  return tokenized_sentences"
      ],
      "execution_count": 18,
      "outputs": []
    },
    {
      "cell_type": "code",
      "metadata": {
        "id": "QZO834VOBDQs"
      },
      "source": [
        "train_tokenized = tokenize_sentences(train_specialtok)\n",
        "val_tokenized = tokenize_sentences(val_specialtok)\n",
        "test_tokenized = tokenize_sentences(test_specialtok)"
      ],
      "execution_count": 19,
      "outputs": []
    },
    {
      "cell_type": "code",
      "metadata": {
        "colab": {
          "base_uri": "https://localhost:8080/"
        },
        "id": "zXK_b9vvBGY9",
        "outputId": "2afd3c8e-58ee-43fc-98fd-7a2554657bbe"
      },
      "source": [
        "print(type(train_tokenized[0]))\n",
        "print(len(train_tokenized))\n",
        "print(len(train_tokenized[0]))\n",
        "print(train_tokenized[:2])\n",
        "print(train_tokenized[0])"
      ],
      "execution_count": 20,
      "outputs": [
        {
          "output_type": "stream",
          "text": [
            "<class 'list'>\n",
            "2075\n",
            "11\n",
            "[[['[CLS]', 'pa', '##pi', '##lin', 'is', 'an', 'extra', '##cellular', 'matrix', 'g', '##ly', '##co', '##pro', '##tein', '[SEP]'], ['[CLS]', 'api', '##lins', 'are', 'homo', '##log', '##ous', ',', 'secret', '##ed', 'extra', '##cellular', 'matrix', 'proteins', 'which', 'share', 'a', 'common', 'order', 'of', 'protein', 'domains', '.', '[SEP]'], ['[CLS]', 'both', 'mig', '-', '6', 'iso', '##forms', 'have', 'a', 'predicted', 'n', '-', 'terminal', 'pa', '##pi', '##lin', 'cassette', '[SEP]'], ['[CLS]', 'the', 'ts', '##r', 'superfamily', 'is', 'a', 'diverse', 'family', 'of', 'extra', '##cellular', 'matrix', 'and', 'trans', '##me', '##mb', '##rane', 'proteins', ',', 'many', 'of', 'which', 'have', 'functions', 'related', 'to', 'regulating', 'matrix', 'organization', ',', 'cell', '-', 'cell', 'interactions', 'and', 'cell', 'guidance', '.', '[SEP]'], ['[CLS]', 'col', '##lage', '##n', 'iv', ',', 'lam', '##ini', '##n', ',', 'g', '##lu', '##ta', '##ct', '##in', ',', 'pa', '##pi', '##lin', ',', 'and', 'other', 'extra', '##cellular', 'matrix', 'proteins', 'were', 'made', 'primarily', 'by', 'hem', '##ocytes', 'and', 'were', 'secret', '##ed', 'into', 'the', 'medium', '.', '[SEP]'], ['[CLS]', 'a', 'sulfate', '##d', 'g', '##ly', '##co', '##pro', '##tein', 'was', 'isolated', 'from', 'the', 'culture', 'media', 'of', 'dr', '##oso', '##phila', 'kc', 'cells', 'and', 'named', 'pa', '##pi', '##lin', '.', '[SEP]'], ['[CLS]', 'using', 'expression', 'analysis', ',', 'we', 'identify', 'three', 'genes', 'that', 'are', 'transcription', '##ally', 'regulated', 'by', 'h', '##l', '##h', '-', '2', ':', 'the', 'proto', '##ca', '##dh', '##erin', 'cd', '##h', '-', '3', ',', 'and', 'two', 'genes', 'encoding', 'secret', '##ed', 'extra', '##cellular', 'matrix', 'proteins', ',', 'mig', '-', '6', '/', 'pa', '##pi', '##lin', 'and', 'him', '-', '4', '/', 'hem', '##ice', '##nti', '##n', '.', '[SEP]'], ['[CLS]', 'f', '-', 'sp', '##ond', '##in', ',', 'un', '##c', '-', '5', ',', 'adam', '##ts', ',', 'pa', '##pi', '##lin', ',', 'and', 'trap', ')', 'where', 'specific', 'functions', 'are', 'assigned', 'to', 'the', 'ts', '##r', 'domains', '.', '[SEP]'], ['[CLS]', 'we', 'found', 'that', 'mig', '-', '6', 'en', '##codes', 'long', '(', 'mig', '-', '6', '##l', ')', 'and', 'short', '(', 'mig', '-', '6', '##s', ')', 'iso', '##forms', 'of', 'the', 'extra', '##cellular', 'matrix', 'protein', 'pa', '##pi', '##lin', ',', 'each', 'required', 'for', 'distinct', 'aspects', 'of', 'dt', '##c', 'migration', '.', '[SEP]'], ['[CLS]', 'pa', '##pi', '##lins', 'are', 'extra', '##cellular', 'matrix', 'proteins', '[SEP]'], ['[CLS]', 'this', 'review', 'samples', 'some', 'of', 'the', 'contemporary', 'literature', 'regarding', 'ts', '##r', 'superfamily', 'members', '(', 'e', '.', 'g', '.', '[SEP]']], [['[CLS]', 'os', '##te', '##op', '##rot', '##eger', '##in', '(', 'op', '##g', ')', 'and', 'receptor', 'act', '##iva', '##tor', 'of', 'nuclear', 'factor', 'κ', '##b', 'ligand', '(', 'rank', '##l', ')', 'are', 'cy', '##tok', '##ines', 'predominantly', 'secret', '##ed', 'by', 'os', '##te', '##ob', '##las', '##ts', 'and', 'play', 'critical', 'roles', 'in', 'the', 'differentiation', 'and', 'function', 'of', 'os', '##te', '##oc', '##las', '##ts', '.', '[SEP]'], ['[CLS]', 'receptor', 'act', '##iva', '##tor', 'of', 'nuclear', 'factor', 'κ', '##b', 'ligand', '(', 'rank', '##l', ')', 'and', 'os', '##te', '##op', '##rot', '##eger', '##in', '(', 'op', '##g', ')', 'are', 'cy', '##tok', '##ines', 'predominantly', 'secret', '##ed', 'by', 'os', '##te', '##ob', '##las', '##ts', 'and', 'play', 'a', 'central', 'role', 'in', 'differentiation', 'and', 'functional', 'activation', 'of', 'os', '##te', '##oc', '##las', '##ts', '[SEP]'], ['[CLS]', 'it', 'usually', 'functions', 'in', 'bone', 're', '##mo', '##del', '##ing', ',', 'by', 'inhibit', '##ing', 'os', '##te', '##oc', '##las', '##to', '##genesis', 'through', 'interaction', 'with', 'a', 'receptor', 'act', '##iva', '##tor', 'of', 'the', 'nuclear', 'factor', 'κ', '##b', '(', 'rank', '##l', ')', '.', '[SEP]'], ['[CLS]', 'os', '##te', '##op', '##rot', '##eger', '##in', '(', 'op', '##g', ')', 'is', 'a', 'soluble', 'secret', '##ed', 'factor', 'that', 'acts', 'as', 'a', 'deco', '##y', 'receptor', 'for', 'receptor', 'act', '##iva', '##tor', 'of', 'n', '##f', '-', 'κ', '##b', 'ligand', '(', 'rank', '##l', ')', '[SEP]'], ['[CLS]', 'os', '##te', '##op', '##rot', '##eger', '##in', '(', 'op', '##g', ')', 'is', 'an', 'essential', 'secret', '##ed', 'protein', 'in', 'bone', 'turnover', 'due', 'to', 'its', 'role', 'as', 'a', 'deco', '##y', 'receptor', 'for', 'the', 'receptor', 'act', '##iva', '##tor', 'of', 'nuclear', 'factor', '-', 'kb', 'ligand', '(', 'rank', '##l', ')', 'in', 'the', 'os', '##te', '##oc', '##las', '##ts', ',', 'thus', 'inhibit', '##ing', 'their', 'differentiation', '[SEP]'], ['[CLS]', 'os', '##te', '##op', '##rot', '##eger', '##in', '(', 'op', '##g', ')', 'is', 'a', 'secret', '##ed', 'g', '##ly', '##co', '##pro', '##tein', 'and', 'a', 'member', 'of', 'the', 'tumor', 'nec', '##rosis', 'factor', 'receptor', 'superfamily', '.', '[SEP]'], ['[CLS]', 'op', '##g', ',', 'on', 'the', 'other', 'hand', ',', 'is', 'secret', '##ed', 'by', 'os', '##te', '##ob', '##las', '##t', 'as', 'a', 'deco', '##y', 'receptor', 'for', 'rank', '##l', ',', 'prevents', 'rank', '##l', 'from', 'binding', 'to', 'rank', 'and', 'thus', 'prevents', 'bone', 'res', '##or', '##ption', '[SEP]'], ['[CLS]', 'e', 'rank', '##l', '/', 'op', '##g', 'ratio', 'secret', '##ed', 'by', 'os', '##te', '##ob', '##las', '##ts', 'increased', 'and', 'rank', 'expression', 'by', 'os', '##te', '##oc', '##las', '##ts', 'increased', ',', 'leading', 'to', 'increased', 'os', '##te', '##oc', '##las', '##to', '##genesis', '[SEP]'], ['[CLS]', 'activated', 'human', 't', 'cells', 'express', 'alternative', 'mrna', 'transcript', '##s', 'encoding', 'a', 'secret', '##ed', 'form', 'of', 'rank', '##l', '.', '[SEP]'], ['[CLS]', 'although', 'b', '.', 'ab', '##ort', '##us', '-', 'activated', 't', 'cells', 'actively', 'secret', '##ed', 'the', 'pro', '-', 'os', '##te', '##oc', '##las', '##to', '##genic', 'cy', '##tok', '##ines', 'rank', '##l', 'and', 'il', '-', '17', ',', 'os', '##te', '##oc', '##las', '##to', '##genesis', 'depended', 'on', 'il', '-', '17', ',', 'because', 'os', '##te', '##oc', '##las', '##t', 'generation', 'induced', 'by', 'bruce', '##lla', '-', 'activated', 't', 'cells', 'was', 'completely', 'ab', '##rogated', 'when', 'these', 'cells', 'were', 'culture', '##d', 'with', 'b', '##mm', '##s', 'from', 'il', '-', '17', 'receptor', 'knockout', 'mice', '.', '[SEP]'], ['[CLS]', 'we', 'identify', 'a', 'tn', '##fs', '##f', '##11', 'transcript', 'variant', 'that', 'extends', 'the', 'originally', 'identified', 'transcript', 'encoding', 'secret', '##ed', 'rank', '##l', '.', '[SEP]'], ['[CLS]', 'we', 'isolated', 'human', 'fi', '##bro', '##bla', '##sts', 'from', 'ra', ',', 'p', '##yr', '##op', '##hos', '##phate', 'art', '##hr', '##opa', '##thy', '(', 'pp', '##a', ')', 'and', 'os', '##te', '##oa', '##rth', '##rit', '##is', '(', 'o', '##a', ')', 'patients', 'and', 'analyzed', 'their', 'rank', '##l', '/', 'op', '##g', 'expression', 'profile', 'and', 'the', 'capacity', 'of', 'their', 'secret', '##ed', 'factors', 'to', 'induce', 'os', '##te', '##oc', '##las', '##to', '##genesis', '.', '[SEP]'], ['[CLS]', 'os', '##te', '##oc', '##las', '##to', '##genesis', 'and', 'bone', 'destruction', 'in', 'auto', '##im', '##mun', '##e', 'arthritis', '.', '[SEP]']]]\n",
            "[['[CLS]', 'pa', '##pi', '##lin', 'is', 'an', 'extra', '##cellular', 'matrix', 'g', '##ly', '##co', '##pro', '##tein', '[SEP]'], ['[CLS]', 'api', '##lins', 'are', 'homo', '##log', '##ous', ',', 'secret', '##ed', 'extra', '##cellular', 'matrix', 'proteins', 'which', 'share', 'a', 'common', 'order', 'of', 'protein', 'domains', '.', '[SEP]'], ['[CLS]', 'both', 'mig', '-', '6', 'iso', '##forms', 'have', 'a', 'predicted', 'n', '-', 'terminal', 'pa', '##pi', '##lin', 'cassette', '[SEP]'], ['[CLS]', 'the', 'ts', '##r', 'superfamily', 'is', 'a', 'diverse', 'family', 'of', 'extra', '##cellular', 'matrix', 'and', 'trans', '##me', '##mb', '##rane', 'proteins', ',', 'many', 'of', 'which', 'have', 'functions', 'related', 'to', 'regulating', 'matrix', 'organization', ',', 'cell', '-', 'cell', 'interactions', 'and', 'cell', 'guidance', '.', '[SEP]'], ['[CLS]', 'col', '##lage', '##n', 'iv', ',', 'lam', '##ini', '##n', ',', 'g', '##lu', '##ta', '##ct', '##in', ',', 'pa', '##pi', '##lin', ',', 'and', 'other', 'extra', '##cellular', 'matrix', 'proteins', 'were', 'made', 'primarily', 'by', 'hem', '##ocytes', 'and', 'were', 'secret', '##ed', 'into', 'the', 'medium', '.', '[SEP]'], ['[CLS]', 'a', 'sulfate', '##d', 'g', '##ly', '##co', '##pro', '##tein', 'was', 'isolated', 'from', 'the', 'culture', 'media', 'of', 'dr', '##oso', '##phila', 'kc', 'cells', 'and', 'named', 'pa', '##pi', '##lin', '.', '[SEP]'], ['[CLS]', 'using', 'expression', 'analysis', ',', 'we', 'identify', 'three', 'genes', 'that', 'are', 'transcription', '##ally', 'regulated', 'by', 'h', '##l', '##h', '-', '2', ':', 'the', 'proto', '##ca', '##dh', '##erin', 'cd', '##h', '-', '3', ',', 'and', 'two', 'genes', 'encoding', 'secret', '##ed', 'extra', '##cellular', 'matrix', 'proteins', ',', 'mig', '-', '6', '/', 'pa', '##pi', '##lin', 'and', 'him', '-', '4', '/', 'hem', '##ice', '##nti', '##n', '.', '[SEP]'], ['[CLS]', 'f', '-', 'sp', '##ond', '##in', ',', 'un', '##c', '-', '5', ',', 'adam', '##ts', ',', 'pa', '##pi', '##lin', ',', 'and', 'trap', ')', 'where', 'specific', 'functions', 'are', 'assigned', 'to', 'the', 'ts', '##r', 'domains', '.', '[SEP]'], ['[CLS]', 'we', 'found', 'that', 'mig', '-', '6', 'en', '##codes', 'long', '(', 'mig', '-', '6', '##l', ')', 'and', 'short', '(', 'mig', '-', '6', '##s', ')', 'iso', '##forms', 'of', 'the', 'extra', '##cellular', 'matrix', 'protein', 'pa', '##pi', '##lin', ',', 'each', 'required', 'for', 'distinct', 'aspects', 'of', 'dt', '##c', 'migration', '.', '[SEP]'], ['[CLS]', 'pa', '##pi', '##lins', 'are', 'extra', '##cellular', 'matrix', 'proteins', '[SEP]'], ['[CLS]', 'this', 'review', 'samples', 'some', 'of', 'the', 'contemporary', 'literature', 'regarding', 'ts', '##r', 'superfamily', 'members', '(', 'e', '.', 'g', '.', '[SEP]']]\n"
          ],
          "name": "stdout"
        }
      ]
    },
    {
      "cell_type": "code",
      "metadata": {
        "id": "m400Nj0FCVYk"
      },
      "source": [
        "#Convert tokenized sentences to respective token ids\n",
        "\n",
        "def token2ids(tokenized_sentences):\n",
        "  # Set the maximum sequence length. \n",
        "  MAX_LEN = 512\n",
        "  token_ids = []\n",
        "\n",
        "  for tokenized_sentence in tokenized_sentences:\n",
        "    tokens_to_ids = [tokenizer.convert_tokens_to_ids(each) for each in tokenized_sentence]\n",
        "    tokens_to_ids = pad_sequences(tokens_to_ids, maxlen=MAX_LEN, dtype=\"long\", truncating=\"post\", padding=\"post\")\n",
        "    token_ids.append(tokens_to_ids)\n",
        "  return token_ids"
      ],
      "execution_count": 21,
      "outputs": []
    },
    {
      "cell_type": "code",
      "metadata": {
        "colab": {
          "base_uri": "https://localhost:8080/"
        },
        "id": "E1ViBFuYCyq0",
        "outputId": "b7ed785b-de07-4f70-ee2c-975d7108112c"
      },
      "source": [
        "train_tokens2ids = token2ids(train_tokenized)\n",
        "val_tokens2ids = token2ids(val_tokenized)\n",
        "test_tokens2ids = token2ids(test_tokenized)"
      ],
      "execution_count": 22,
      "outputs": [
        {
          "output_type": "stream",
          "text": [
            "Token indices sequence length is longer than the specified maximum  sequence length for this BERT model (529 > 512). Running this sequence through BERT will result in indexing errors\n"
          ],
          "name": "stderr"
        }
      ]
    },
    {
      "cell_type": "code",
      "metadata": {
        "colab": {
          "base_uri": "https://localhost:8080/"
        },
        "id": "vyz0kHJWC2uG",
        "outputId": "6a43f30b-3d2f-4ac6-e41c-59793c246dff"
      },
      "source": [
        "print(len(train_tokens2ids))\n",
        "print(len(train_tokens2ids[0]))\n",
        "print(len(train_tokens2ids[0][0]))\n",
        "\n",
        "\n",
        "print(type(train_tokens2ids))\n",
        "print(type(train_tokens2ids[0]))\n",
        "print(type(train_tokens2ids[0][0]))\n",
        "\n",
        "\n",
        "print(train_tokens2ids[0].dtype)\n",
        "print(train_tokens2ids[0][0].dtype)"
      ],
      "execution_count": 23,
      "outputs": [
        {
          "output_type": "stream",
          "text": [
            "2075\n",
            "11\n",
            "512\n",
            "<class 'list'>\n",
            "<class 'numpy.ndarray'>\n",
            "<class 'numpy.ndarray'>\n",
            "int64\n",
            "int64\n"
          ],
          "name": "stdout"
        }
      ]
    },
    {
      "cell_type": "code",
      "metadata": {
        "colab": {
          "base_uri": "https://localhost:8080/",
          "height": 35
        },
        "id": "WiBC87abDQ_w",
        "outputId": "2585d62c-f275-4503-ef6c-e25b033549cb"
      },
      "source": [
        "# specify GPU device\n",
        "device = torch.device(\"cuda\" if torch.cuda.is_available() else \"cpu\")\n",
        "n_gpu = torch.cuda.device_count()\n",
        "torch.cuda.get_device_name(0)"
      ],
      "execution_count": 24,
      "outputs": [
        {
          "output_type": "execute_result",
          "data": {
            "application/vnd.google.colaboratory.intrinsic+json": {
              "type": "string"
            },
            "text/plain": [
              "'Tesla T4'"
            ]
          },
          "metadata": {
            "tags": []
          },
          "execution_count": 24
        }
      ]
    },
    {
      "cell_type": "code",
      "metadata": {
        "id": "4Iqju87q-4tD"
      },
      "source": [
        "#Create masks for the tokenids\n",
        "\n",
        "def create_masks(token_ids):\n",
        "  attention_masks = []\n",
        "\n",
        "  for tid in token_ids:\n",
        "    eachtid_mask = []\n",
        "    for each in tid:\n",
        "      mask = [float(i>0) for i in each] #for each token \n",
        "      eachtid_mask.append(mask)#for each sentence\n",
        "    attention_masks.append(np.array(eachtid_mask))\n",
        "  return attention_masks"
      ],
      "execution_count": 25,
      "outputs": []
    },
    {
      "cell_type": "code",
      "metadata": {
        "id": "8BJFiJrM-_j3"
      },
      "source": [
        "train_masks = create_masks(train_tokens2ids)\n",
        "val_masks = create_masks(val_tokens2ids)\n",
        "test_masks = create_masks(test_tokens2ids)"
      ],
      "execution_count": 26,
      "outputs": []
    },
    {
      "cell_type": "code",
      "metadata": {
        "id": "DhF99tiR9CSa"
      },
      "source": [
        "#Create tesnors with padding\n",
        "\n",
        "from torch.nn.utils.rnn import pad_sequence\n",
        "\n",
        "def padding2tensor(givenlist):\n",
        " tensors = pad_sequence([torch.tensor(x) for x in givenlist], batch_first=True)\n",
        " return tensors"
      ],
      "execution_count": 27,
      "outputs": []
    },
    {
      "cell_type": "code",
      "metadata": {
        "id": "A8FhMUuJ-BlR"
      },
      "source": [
        "train_tensor_inputs =  padding2tensor(train_tokens2ids)\n",
        "val_tensor_inputs =  padding2tensor(val_tokens2ids)\n",
        "test_tensor_inputs = padding2tensor(test_tokens2ids)"
      ],
      "execution_count": 28,
      "outputs": []
    },
    {
      "cell_type": "code",
      "metadata": {
        "colab": {
          "base_uri": "https://localhost:8080/"
        },
        "id": "M-0Kb-32-UYh",
        "outputId": "7178a94d-9483-4529-dbc0-548b2b30239c"
      },
      "source": [
        "print(len(train_tensor_inputs))\n",
        "print(len(train_tensor_inputs[0]))\n",
        "print(len(train_tensor_inputs[0][0]))\n",
        "\n",
        "print(train_tensor_inputs.shape)\n",
        "print(train_tensor_inputs[0].shape)\n",
        "print(train_tensor_inputs[0][0].shape)"
      ],
      "execution_count": 29,
      "outputs": [
        {
          "output_type": "stream",
          "text": [
            "2075\n",
            "146\n",
            "512\n",
            "torch.Size([2075, 146, 512])\n",
            "torch.Size([146, 512])\n",
            "torch.Size([512])\n"
          ],
          "name": "stdout"
        }
      ]
    },
    {
      "cell_type": "code",
      "metadata": {
        "id": "4vWcZ0ns_HhO"
      },
      "source": [
        "train_tensor_masks =  padding2tensor(train_masks)\n",
        "val_tensor_masks =  padding2tensor(val_masks)\n",
        "test_tensor_masks = padding2tensor(test_masks)"
      ],
      "execution_count": 30,
      "outputs": []
    },
    {
      "cell_type": "code",
      "metadata": {
        "colab": {
          "base_uri": "https://localhost:8080/"
        },
        "id": "ipw57lKV_c34",
        "outputId": "5716bc88-a8ea-48d8-f8ac-fa6a9dd38585"
      },
      "source": [
        "print(len(train_tensor_masks))\n",
        "print(len(train_tensor_masks[0]))\n",
        "print(len(train_tensor_masks[0][0]))\n",
        "\n",
        "print(train_tensor_masks.shape)\n",
        "print(train_tensor_masks[0].shape)\n",
        "print(train_tensor_masks[0][0].shape)"
      ],
      "execution_count": 31,
      "outputs": [
        {
          "output_type": "stream",
          "text": [
            "2075\n",
            "146\n",
            "512\n",
            "torch.Size([2075, 146, 512])\n",
            "torch.Size([146, 512])\n",
            "torch.Size([512])\n"
          ],
          "name": "stdout"
        }
      ]
    },
    {
      "cell_type": "code",
      "metadata": {
        "colab": {
          "base_uri": "https://localhost:8080/"
        },
        "id": "f0oI6SRJ_39Z",
        "outputId": "e6ecc001-41d0-4b02-c07c-e929bc3d87ba"
      },
      "source": [
        "#Create labels from data\n",
        "\n",
        "train_labels = list(train_grouped['SU4'])\n",
        "val_labels = list(val_grouped['SU4'])\n",
        "print(len(train_labels))\n",
        "print(len(val_labels))"
      ],
      "execution_count": 32,
      "outputs": [
        {
          "output_type": "stream",
          "text": [
            "2075\n",
            "519\n"
          ],
          "name": "stdout"
        }
      ]
    },
    {
      "cell_type": "code",
      "metadata": {
        "id": "eQh9bcuYAY5o"
      },
      "source": [
        "train_tensor_labels =  padding2tensor(train_labels)\n",
        "val_tensor_labels =  padding2tensor(val_labels)"
      ],
      "execution_count": 33,
      "outputs": []
    },
    {
      "cell_type": "code",
      "metadata": {
        "colab": {
          "base_uri": "https://localhost:8080/"
        },
        "id": "_TRC2K28AmgX",
        "outputId": "4683dd0b-ce21-4276-85bf-84a2e7acd88d"
      },
      "source": [
        "print(len(train_tensor_labels))\n",
        "print(len(train_tensor_labels[0]))\n",
        "\n",
        "print(train_tensor_labels.shape)\n",
        "print(train_tensor_labels[0].shape)"
      ],
      "execution_count": 34,
      "outputs": [
        {
          "output_type": "stream",
          "text": [
            "2075\n",
            "146\n",
            "torch.Size([2075, 146])\n",
            "torch.Size([146])\n"
          ],
          "name": "stdout"
        }
      ]
    },
    {
      "cell_type": "code",
      "metadata": {
        "id": "fP4S_IGqBTJC"
      },
      "source": [
        "# Create an iterator of our data with torch DataLoader \n",
        "\n",
        "# Select a batch size for training. \n",
        "batch_size = 16\n",
        "\n",
        "train_data = TensorDataset(train_tensor_inputs, train_tensor_masks, train_tensor_labels)\n",
        "train_sampler = RandomSampler(train_data)\n",
        "train_dataloader = DataLoader(train_data, sampler = train_sampler, batch_size = batch_size)\n",
        "\n",
        "validation_data = TensorDataset(val_tensor_inputs, val_tensor_masks, val_tensor_labels)\n",
        "validation_sampler = RandomSampler(validation_data) #change to seq sampler next time and try\n",
        "validation_dataloader = DataLoader(validation_data, sampler = validation_sampler, batch_size = batch_size)"
      ],
      "execution_count": 35,
      "outputs": []
    },
    {
      "cell_type": "code",
      "metadata": {
        "id": "xhJ55hXiDF1Q"
      },
      "source": [
        ""
      ],
      "execution_count": null,
      "outputs": []
    }
  ]
}